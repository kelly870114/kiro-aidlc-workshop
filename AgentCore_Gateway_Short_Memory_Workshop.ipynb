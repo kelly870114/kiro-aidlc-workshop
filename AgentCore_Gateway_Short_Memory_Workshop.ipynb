{
 "cells": [
  {
   "cell_type": "markdown",
   "metadata": {},
   "source": [
    "# AgentCore Memory Workshop: Building Strands Agents with Memory\n",
    "\n",
    "Welcome to the AgentCore Memory Workshop! This notebook focuses on building intelligent agents with memory capabilities using Amazon Bedrock AgentCore Memory and Strands framework. You'll learn how to create agents that remember conversations and provide personalized experiences.\n",
    "\n",
    "## Workshop Overview\n",
    "\n",
    "### What You'll Learn\n",
    "\n",
    "By the end of this workshop, you will be able to:\n",
    "\n",
    "- **Understand** AgentCore Memory architecture and concepts\n",
    "- **Create** memory resources for short-term conversation storage\n",
    "- **Implement** memory hooks for automatic conversation management\n",
    "- **Build** agents that remember user preferences and context\n",
    "- **Test** memory functionality with practical examples\n",
    "- **Apply** best practices for memory management in production\n",
    "\n",
    "### Prerequisites\n",
    "\n",
    "**⚠️ IMPORTANT: This workshop assumes you have completed the AgentCore Runtime Workshop first.**\n",
    "\n",
    "This workshop reuses resources created in the Runtime Workshop to avoid duplication:\n",
    "- ✅ **IAM Role**: `AgentCoreWorkshopRole` (will be updated with Memory permissions)\n",
    "- ✅ **Cognito User Pool**: Authentication configuration\n",
    "- ✅ **AgentCore Gateway**: Existing gateway with OpenAPI targets\n",
    "- ✅ **API Credentials**: OpenWeather API key configuration\n",
    "\n",
    "If you haven't completed the Runtime Workshop, some steps may fail. You should either:\n",
    "1. **Recommended**: Complete the Runtime Workshop first\n",
    "2. **Alternative**: Manually create the missing resources when prompted\n",
    "\n",
    "### Additional Knowledge Requirements\n",
    "- Strands framework fundamentals\n",
    "- Building agents with tools and external APIs\n",
    "- AWS services and IAM configuration\n",
    "\n",
    "### AgentCore Memory\n",
    "\n",
    "Amazon Bedrock AgentCore Memory is a managed service that provides:\n",
    "\n",
    "- **Short-term memory** for conversation continuity\n",
    "- **Long-term memory** with intelligent summarization\n",
    "- **Automatic management** of memory lifecycle\n",
    "- **Scalable storage** for multiple users and sessions\n",
    "- **Integration** with Strands agents through hooks"
   ]
  },
  {
   "cell_type": "markdown",
   "metadata": {},
   "source": [
    "## Setup Instructions\n",
    "\n",
    "Let's verify your environment and install the required dependencies for AgentCore Memory.\n",
    "\n",
    "### Step 1: Verify Python Version"
   ]
  },
  {
   "cell_type": "code",
   "execution_count": 1,
   "metadata": {
    "execution": {
     "iopub.execute_input": "2025-09-12T02:18:06.488290Z",
     "iopub.status.busy": "2025-09-12T02:18:06.488034Z",
     "iopub.status.idle": "2025-09-12T02:18:06.491893Z",
     "shell.execute_reply": "2025-09-12T02:18:06.491322Z",
     "shell.execute_reply.started": "2025-09-12T02:18:06.488269Z"
    }
   },
   "outputs": [
    {
     "name": "stdout",
     "output_type": "stream",
     "text": [
      "Python version: 3.12.9 | packaged by conda-forge | (main, Feb 14 2025, 08:00:06) [GCC 13.3.0]\n",
      "✅ Python version is compatible\n"
     ]
    }
   ],
   "source": [
    "import sys\n",
    "print(f\"Python version: {sys.version}\")\n",
    "\n",
    "# Check if Python version is 3.10 or higher\n",
    "if sys.version_info >= (3, 10):\n",
    "    print(\"✅ Python version is compatible\")\n",
    "else:\n",
    "    print(\"❌ Python 3.10+ is required. Please upgrade your Python version.\")"
   ]
  },
  {
   "cell_type": "markdown",
   "metadata": {},
   "source": [
    "### Step 2: Verify AWS Configuration"
   ]
  },
  {
   "cell_type": "code",
   "execution_count": 2,
   "metadata": {
    "execution": {
     "iopub.execute_input": "2025-09-12T02:18:07.424354Z",
     "iopub.status.busy": "2025-09-12T02:18:07.424102Z",
     "iopub.status.idle": "2025-09-12T02:18:07.655941Z",
     "shell.execute_reply": "2025-09-12T02:18:07.655369Z",
     "shell.execute_reply.started": "2025-09-12T02:18:07.424332Z"
    }
   },
   "outputs": [
    {
     "name": "stdout",
     "output_type": "stream",
     "text": [
      "✅ AWS credentials are configured\n",
      "✅ AWS Region: us-east-1\n",
      "✅ AWS Account ID: 885475566683\n",
      "✅ AWS User/Role: arn:aws:sts::885475566683:assumed-role/sagemaker-domain-SageMakerExecutionRole-YfeeIoZq3shF/SageMaker\n"
     ]
    }
   ],
   "source": [
    "import boto3\n",
    "from botocore.exceptions import NoCredentialsError, ClientError\n",
    "\n",
    "try:\n",
    "    # Test AWS credentials\n",
    "    session = boto3.Session()\n",
    "    credentials = session.get_credentials()\n",
    "    \n",
    "    if credentials is None:\n",
    "        print(\"❌ No AWS credentials found\")\n",
    "        print(\"Please configure AWS credentials using 'aws configure' or environment variables\")\n",
    "    else:\n",
    "        print(\"✅ AWS credentials are configured\")\n",
    "        \n",
    "        # Get current region\n",
    "        region = session.region_name\n",
    "        print(f\"✅ AWS Region: {region}\")\n",
    "        \n",
    "        # Test basic AWS access\n",
    "        sts = boto3.client('sts')\n",
    "        identity = sts.get_caller_identity()\n",
    "        print(f\"✅ AWS Account ID: {identity['Account']}\")\n",
    "        print(f\"✅ AWS User/Role: {identity['Arn']}\")\n",
    "        \n",
    "except NoCredentialsError:\n",
    "    print(\"❌ AWS credentials not found\")\n",
    "    print(\"Please run 'aws configure' to set up your credentials\")\n",
    "except ClientError as e:\n",
    "    print(f\"❌ AWS access error: {e}\")\n",
    "except Exception as e:\n",
    "    print(f\"❌ Unexpected error: {e}\")"
   ]
  },
  {
   "cell_type": "markdown",
   "metadata": {},
   "source": [
    "### Step 3: Install AgentCore Memory Dependencies\n",
    "\n",
    "Now let's install all the required Python packages for AgentCore Memory:"
   ]
  },
  {
   "cell_type": "code",
   "execution_count": 3,
   "metadata": {
    "execution": {
     "iopub.execute_input": "2025-09-12T02:18:10.338314Z",
     "iopub.status.busy": "2025-09-12T02:18:10.337981Z",
     "iopub.status.idle": "2025-09-12T02:18:12.072222Z",
     "shell.execute_reply": "2025-09-12T02:18:12.071462Z",
     "shell.execute_reply.started": "2025-09-12T02:18:10.338293Z"
    }
   },
   "outputs": [
    {
     "name": "stdout",
     "output_type": "stream",
     "text": [
      "Requirement already satisfied: strands-agents in /opt/conda/lib/python3.12/site-packages (1.8.0)\n",
      "Requirement already satisfied: strands-agents-tools in /opt/conda/lib/python3.12/site-packages (0.2.7)\n",
      "Requirement already satisfied: bedrock-agentcore in /opt/conda/lib/python3.12/site-packages (0.1.3)\n",
      "Requirement already satisfied: boto3 in /opt/conda/lib/python3.12/site-packages (1.40.29)\n",
      "Requirement already satisfied: botocore<2.0.0,>=1.29.0 in /opt/conda/lib/python3.12/site-packages (from strands-agents) (1.40.29)\n",
      "Requirement already satisfied: docstring-parser<1.0,>=0.15 in /opt/conda/lib/python3.12/site-packages (from strands-agents) (0.17.0)\n",
      "Requirement already satisfied: mcp<2.0.0,>=1.11.0 in /opt/conda/lib/python3.12/site-packages (from strands-agents) (1.14.0)\n",
      "Requirement already satisfied: opentelemetry-api<2.0.0,>=1.30.0 in /opt/conda/lib/python3.12/site-packages (from strands-agents) (1.37.0)\n",
      "Requirement already satisfied: opentelemetry-instrumentation-threading<1.00b0,>=0.51b0 in /opt/conda/lib/python3.12/site-packages (from strands-agents) (0.58b0)\n",
      "Requirement already satisfied: opentelemetry-sdk<2.0.0,>=1.30.0 in /opt/conda/lib/python3.12/site-packages (from strands-agents) (1.37.0)\n",
      "Requirement already satisfied: pydantic<3.0.0,>=2.4.0 in /opt/conda/lib/python3.12/site-packages (from strands-agents) (2.11.7)\n",
      "Requirement already satisfied: typing-extensions<5.0.0,>=4.13.2 in /opt/conda/lib/python3.12/site-packages (from strands-agents) (4.15.0)\n",
      "Requirement already satisfied: watchdog<7.0.0,>=6.0.0 in /opt/conda/lib/python3.12/site-packages (from strands-agents) (6.0.0)\n",
      "Requirement already satisfied: jmespath<2.0.0,>=0.7.1 in /opt/conda/lib/python3.12/site-packages (from boto3) (1.0.1)\n",
      "Requirement already satisfied: s3transfer<0.15.0,>=0.14.0 in /opt/conda/lib/python3.12/site-packages (from boto3) (0.14.0)\n",
      "Requirement already satisfied: python-dateutil<3.0.0,>=2.1 in /opt/conda/lib/python3.12/site-packages (from botocore<2.0.0,>=1.29.0->strands-agents) (2.9.0.post0)\n",
      "Requirement already satisfied: urllib3!=2.2.0,<3,>=1.25.4 in /opt/conda/lib/python3.12/site-packages (from botocore<2.0.0,>=1.29.0->strands-agents) (2.5.0)\n",
      "Requirement already satisfied: anyio>=4.5 in /opt/conda/lib/python3.12/site-packages (from mcp<2.0.0,>=1.11.0->strands-agents) (4.10.0)\n",
      "Requirement already satisfied: httpx-sse>=0.4 in /opt/conda/lib/python3.12/site-packages (from mcp<2.0.0,>=1.11.0->strands-agents) (0.4.1)\n",
      "Requirement already satisfied: httpx>=0.27.1 in /opt/conda/lib/python3.12/site-packages (from mcp<2.0.0,>=1.11.0->strands-agents) (0.28.1)\n",
      "Requirement already satisfied: jsonschema>=4.20.0 in /opt/conda/lib/python3.12/site-packages (from mcp<2.0.0,>=1.11.0->strands-agents) (4.25.1)\n",
      "Requirement already satisfied: pydantic-settings>=2.5.2 in /opt/conda/lib/python3.12/site-packages (from mcp<2.0.0,>=1.11.0->strands-agents) (2.10.1)\n",
      "Requirement already satisfied: python-multipart>=0.0.9 in /opt/conda/lib/python3.12/site-packages (from mcp<2.0.0,>=1.11.0->strands-agents) (0.0.20)\n",
      "Requirement already satisfied: sse-starlette>=1.6.1 in /opt/conda/lib/python3.12/site-packages (from mcp<2.0.0,>=1.11.0->strands-agents) (3.0.2)\n",
      "Requirement already satisfied: starlette>=0.27 in /opt/conda/lib/python3.12/site-packages (from mcp<2.0.0,>=1.11.0->strands-agents) (0.47.3)\n",
      "Requirement already satisfied: uvicorn>=0.31.1 in /opt/conda/lib/python3.12/site-packages (from mcp<2.0.0,>=1.11.0->strands-agents) (0.35.0)\n",
      "Requirement already satisfied: importlib-metadata<8.8.0,>=6.0 in /opt/conda/lib/python3.12/site-packages (from opentelemetry-api<2.0.0,>=1.30.0->strands-agents) (8.7.0)\n",
      "Requirement already satisfied: zipp>=3.20 in /opt/conda/lib/python3.12/site-packages (from importlib-metadata<8.8.0,>=6.0->opentelemetry-api<2.0.0,>=1.30.0->strands-agents) (3.23.0)\n",
      "Requirement already satisfied: opentelemetry-instrumentation==0.58b0 in /opt/conda/lib/python3.12/site-packages (from opentelemetry-instrumentation-threading<1.00b0,>=0.51b0->strands-agents) (0.58b0)\n",
      "Requirement already satisfied: wrapt<2.0.0,>=1.0.0 in /opt/conda/lib/python3.12/site-packages (from opentelemetry-instrumentation-threading<1.00b0,>=0.51b0->strands-agents) (1.17.3)\n",
      "Requirement already satisfied: opentelemetry-semantic-conventions==0.58b0 in /opt/conda/lib/python3.12/site-packages (from opentelemetry-instrumentation==0.58b0->opentelemetry-instrumentation-threading<1.00b0,>=0.51b0->strands-agents) (0.58b0)\n",
      "Requirement already satisfied: packaging>=18.0 in /opt/conda/lib/python3.12/site-packages (from opentelemetry-instrumentation==0.58b0->opentelemetry-instrumentation-threading<1.00b0,>=0.51b0->strands-agents) (25.0)\n",
      "Requirement already satisfied: annotated-types>=0.6.0 in /opt/conda/lib/python3.12/site-packages (from pydantic<3.0.0,>=2.4.0->strands-agents) (0.7.0)\n",
      "Requirement already satisfied: pydantic-core==2.33.2 in /opt/conda/lib/python3.12/site-packages (from pydantic<3.0.0,>=2.4.0->strands-agents) (2.33.2)\n",
      "Requirement already satisfied: typing-inspection>=0.4.0 in /opt/conda/lib/python3.12/site-packages (from pydantic<3.0.0,>=2.4.0->strands-agents) (0.4.1)\n",
      "Requirement already satisfied: six>=1.5 in /opt/conda/lib/python3.12/site-packages (from python-dateutil<3.0.0,>=2.1->botocore<2.0.0,>=1.29.0->strands-agents) (1.17.0)\n",
      "Requirement already satisfied: aiohttp<4.0.0,>=3.8.0 in /opt/conda/lib/python3.12/site-packages (from strands-agents-tools) (3.12.15)\n",
      "Requirement already satisfied: aws-requests-auth<0.5.0,>=0.4.3 in /opt/conda/lib/python3.12/site-packages (from strands-agents-tools) (0.4.3)\n",
      "Requirement already satisfied: dill<0.5.0,>=0.4.0 in /opt/conda/lib/python3.12/site-packages (from strands-agents-tools) (0.4.0)\n",
      "Requirement already satisfied: markdownify<2.0.0,>=1.0.0 in /opt/conda/lib/python3.12/site-packages (from strands-agents-tools) (1.2.0)\n",
      "Requirement already satisfied: pillow<12.0.0,>=11.2.1 in /opt/conda/lib/python3.12/site-packages (from strands-agents-tools) (11.3.0)\n",
      "Requirement already satisfied: prompt-toolkit<4.0.0,>=3.0.51 in /opt/conda/lib/python3.12/site-packages (from strands-agents-tools) (3.0.52)\n",
      "Requirement already satisfied: pyjwt<3.0.0,>=2.10.1 in /opt/conda/lib/python3.12/site-packages (from strands-agents-tools) (2.10.1)\n",
      "Requirement already satisfied: readabilipy<1.0.0,>=0.2.0 in /opt/conda/lib/python3.12/site-packages (from strands-agents-tools) (0.3.0)\n",
      "Requirement already satisfied: requests<3.0.0,>=2.28.0 in /opt/conda/lib/python3.12/site-packages (from strands-agents-tools) (2.32.5)\n",
      "Requirement already satisfied: rich<15.0.0,>=14.0.0 in /opt/conda/lib/python3.12/site-packages (from strands-agents-tools) (14.1.0)\n",
      "Requirement already satisfied: slack-bolt<2.0.0,>=1.23.0 in /opt/conda/lib/python3.12/site-packages (from strands-agents-tools) (1.25.0)\n",
      "Requirement already satisfied: sympy<2.0.0,>=1.12.0 in /opt/conda/lib/python3.12/site-packages (from strands-agents-tools) (1.14.0)\n",
      "Requirement already satisfied: tenacity<10.0.0,>=9.1.2 in /opt/conda/lib/python3.12/site-packages (from strands-agents-tools) (9.1.2)\n",
      "Requirement already satisfied: aiohappyeyeballs>=2.5.0 in /opt/conda/lib/python3.12/site-packages (from aiohttp<4.0.0,>=3.8.0->strands-agents-tools) (2.6.1)\n",
      "Requirement already satisfied: aiosignal>=1.4.0 in /opt/conda/lib/python3.12/site-packages (from aiohttp<4.0.0,>=3.8.0->strands-agents-tools) (1.4.0)\n",
      "Requirement already satisfied: attrs>=17.3.0 in /opt/conda/lib/python3.12/site-packages (from aiohttp<4.0.0,>=3.8.0->strands-agents-tools) (25.3.0)\n",
      "Requirement already satisfied: frozenlist>=1.1.1 in /opt/conda/lib/python3.12/site-packages (from aiohttp<4.0.0,>=3.8.0->strands-agents-tools) (1.7.0)\n",
      "Requirement already satisfied: multidict<7.0,>=4.5 in /opt/conda/lib/python3.12/site-packages (from aiohttp<4.0.0,>=3.8.0->strands-agents-tools) (6.6.4)\n",
      "Requirement already satisfied: propcache>=0.2.0 in /opt/conda/lib/python3.12/site-packages (from aiohttp<4.0.0,>=3.8.0->strands-agents-tools) (0.3.2)\n",
      "Requirement already satisfied: yarl<2.0,>=1.17.0 in /opt/conda/lib/python3.12/site-packages (from aiohttp<4.0.0,>=3.8.0->strands-agents-tools) (1.20.1)\n",
      "Requirement already satisfied: beautifulsoup4<5,>=4.9 in /opt/conda/lib/python3.12/site-packages (from markdownify<2.0.0,>=1.0.0->strands-agents-tools) (4.13.5)\n",
      "Requirement already satisfied: soupsieve>1.2 in /opt/conda/lib/python3.12/site-packages (from beautifulsoup4<5,>=4.9->markdownify<2.0.0,>=1.0.0->strands-agents-tools) (2.8)\n",
      "Requirement already satisfied: wcwidth in /opt/conda/lib/python3.12/site-packages (from prompt-toolkit<4.0.0,>=3.0.51->strands-agents-tools) (0.2.13)\n",
      "Requirement already satisfied: html5lib in /opt/conda/lib/python3.12/site-packages (from readabilipy<1.0.0,>=0.2.0->strands-agents-tools) (1.1)\n",
      "Requirement already satisfied: lxml in /opt/conda/lib/python3.12/site-packages (from readabilipy<1.0.0,>=0.2.0->strands-agents-tools) (6.0.1)\n",
      "Requirement already satisfied: regex in /opt/conda/lib/python3.12/site-packages (from readabilipy<1.0.0,>=0.2.0->strands-agents-tools) (2025.9.1)\n",
      "Requirement already satisfied: charset_normalizer<4,>=2 in /opt/conda/lib/python3.12/site-packages (from requests<3.0.0,>=2.28.0->strands-agents-tools) (3.4.3)\n",
      "Requirement already satisfied: idna<4,>=2.5 in /opt/conda/lib/python3.12/site-packages (from requests<3.0.0,>=2.28.0->strands-agents-tools) (3.10)\n",
      "Requirement already satisfied: certifi>=2017.4.17 in /opt/conda/lib/python3.12/site-packages (from requests<3.0.0,>=2.28.0->strands-agents-tools) (2025.8.3)\n",
      "Requirement already satisfied: markdown-it-py>=2.2.0 in /opt/conda/lib/python3.12/site-packages (from rich<15.0.0,>=14.0.0->strands-agents-tools) (4.0.0)\n",
      "Requirement already satisfied: pygments<3.0.0,>=2.13.0 in /opt/conda/lib/python3.12/site-packages (from rich<15.0.0,>=14.0.0->strands-agents-tools) (2.19.2)\n",
      "Requirement already satisfied: slack_sdk<4,>=3.35.0 in /opt/conda/lib/python3.12/site-packages (from slack-bolt<2.0.0,>=1.23.0->strands-agents-tools) (3.36.0)\n",
      "Requirement already satisfied: mpmath<1.4,>=1.1.0 in /opt/conda/lib/python3.12/site-packages (from sympy<2.0.0,>=1.12.0->strands-agents-tools) (1.3.0)\n",
      "Requirement already satisfied: sniffio>=1.1 in /opt/conda/lib/python3.12/site-packages (from anyio>=4.5->mcp<2.0.0,>=1.11.0->strands-agents) (1.3.1)\n",
      "Requirement already satisfied: httpcore==1.* in /opt/conda/lib/python3.12/site-packages (from httpx>=0.27.1->mcp<2.0.0,>=1.11.0->strands-agents) (1.0.9)\n",
      "Requirement already satisfied: h11>=0.16 in /opt/conda/lib/python3.12/site-packages (from httpcore==1.*->httpx>=0.27.1->mcp<2.0.0,>=1.11.0->strands-agents) (0.16.0)\n",
      "Requirement already satisfied: jsonschema-specifications>=2023.03.6 in /opt/conda/lib/python3.12/site-packages (from jsonschema>=4.20.0->mcp<2.0.0,>=1.11.0->strands-agents) (2025.9.1)\n",
      "Requirement already satisfied: referencing>=0.28.4 in /opt/conda/lib/python3.12/site-packages (from jsonschema>=4.20.0->mcp<2.0.0,>=1.11.0->strands-agents) (0.36.2)\n",
      "Requirement already satisfied: rpds-py>=0.7.1 in /opt/conda/lib/python3.12/site-packages (from jsonschema>=4.20.0->mcp<2.0.0,>=1.11.0->strands-agents) (0.27.1)\n",
      "Requirement already satisfied: mdurl~=0.1 in /opt/conda/lib/python3.12/site-packages (from markdown-it-py>=2.2.0->rich<15.0.0,>=14.0.0->strands-agents-tools) (0.1.2)\n",
      "Requirement already satisfied: python-dotenv>=0.21.0 in /opt/conda/lib/python3.12/site-packages (from pydantic-settings>=2.5.2->mcp<2.0.0,>=1.11.0->strands-agents) (1.1.1)\n",
      "Requirement already satisfied: click>=7.0 in /opt/conda/lib/python3.12/site-packages (from uvicorn>=0.31.1->mcp<2.0.0,>=1.11.0->strands-agents) (8.2.1)\n",
      "Requirement already satisfied: webencodings in /opt/conda/lib/python3.12/site-packages (from html5lib->readabilipy<1.0.0,>=0.2.0->strands-agents-tools) (0.5.1)\n"
     ]
    }
   ],
   "source": [
    "!pip install strands-agents strands-agents-tools bedrock-agentcore boto3"
   ]
  },
  {
   "cell_type": "markdown",
   "metadata": {},
   "source": [
    "### Step 4: Final Environment Validation"
   ]
  },
  {
   "cell_type": "code",
   "execution_count": 4,
   "metadata": {
    "execution": {
     "iopub.execute_input": "2025-09-12T02:18:12.073761Z",
     "iopub.status.busy": "2025-09-12T02:18:12.073314Z",
     "iopub.status.idle": "2025-09-12T02:18:12.315570Z",
     "shell.execute_reply": "2025-09-12T02:18:12.315068Z",
     "shell.execute_reply.started": "2025-09-12T02:18:12.073700Z"
    }
   },
   "outputs": [
    {
     "name": "stdout",
     "output_type": "stream",
     "text": [
      "🔍 AgentCore Memory Environment Validation\n",
      "=============================================\n",
      "📅 Workshop Date: 2025-09-12 02:18:12\n",
      "🐍 Python Version: 3.12.9\n",
      "📍 Working Directory: /opt/conda/lib/python312.zip\n",
      "☁️  AWS Region: us-east-1\n",
      "✅ Bedrock service accessible\n",
      "✅ AgentCore Memory client ready\n",
      "\n",
      "🎉 Environment validation complete!\n",
      "\n",
      "📚 You're ready for AgentCore Memory development!\n",
      "\n",
      "👉 Proceed to the next section: 'Memory Basics'\n"
     ]
    }
   ],
   "source": [
    "import sys\n",
    "import boto3\n",
    "from datetime import datetime\n",
    "\n",
    "print(\"🔍 AgentCore Memory Environment Validation\")\n",
    "print(\"=\" * 45)\n",
    "\n",
    "# System info\n",
    "print(f\"📅 Workshop Date: {datetime.now().strftime('%Y-%m-%d %H:%M:%S')}\")\n",
    "print(f\"🐍 Python Version: {sys.version.split()[0]}\")\n",
    "print(f\"📍 Working Directory: {sys.path[0]}\")\n",
    "\n",
    "# AWS info\n",
    "try:\n",
    "    session = boto3.Session()\n",
    "    region = session.region_name\n",
    "    print(f\"☁️  AWS Region: {region}\")\n",
    "    \n",
    "    # Test Bedrock access\n",
    "    bedrock = boto3.client('bedrock', region_name=region)\n",
    "    print(\"✅ Bedrock service accessible\")\n",
    "    \n",
    "    # Test AgentCore Memory access\n",
    "    from bedrock_agentcore.memory import MemoryClient\n",
    "    memory_client = MemoryClient(region_name=region)\n",
    "    print(\"✅ AgentCore Memory client ready\")\n",
    "    \n",
    "except Exception as e:\n",
    "    print(f\"⚠️  AWS setup issue: {e}\")\n",
    "\n",
    "print(\"\\n🎉 Environment validation complete!\")\n",
    "print(\"\\n📚 You're ready for AgentCore Memory development!\")\n",
    "print(\"\\n👉 Proceed to the next section: 'Memory Basics'\")"
   ]
  },
  {
   "cell_type": "markdown",
   "metadata": {},
   "source": [
    "## Workshop Resource Management\n",
    "\n",
    "This section handles the retrieval and setup of resources from the Runtime Workshop. The following resources will be reused:\n",
    "\n",
    "- **IAM Role**: Retrieved from Runtime Workshop and updated with Memory permissions\n",
    "- **Cognito Configuration**: Reused authentication setup\n",
    "- **AgentCore Gateway**: Existing gateway with OpenAPI targets\n",
    "\n",
    "### Environment Setup\n"
   ]
  },
  {
   "cell_type": "code",
   "execution_count": 5,
   "metadata": {
    "execution": {
     "iopub.execute_input": "2025-09-12T02:18:17.267352Z",
     "iopub.status.busy": "2025-09-12T02:18:17.267087Z",
     "iopub.status.idle": "2025-09-12T02:18:17.270487Z",
     "shell.execute_reply": "2025-09-12T02:18:17.269828Z",
     "shell.execute_reply.started": "2025-09-12T02:18:17.267330Z"
    }
   },
   "outputs": [],
   "source": [
    "# Set AWS credentials if not using Amazon SageMaker notebook\n",
    "import os\n",
    "# os.environ['AWS_ACCESS_KEY_ID'] = '' # Set the access key\n",
    "# os.environ['AWS_SECRET_ACCESS_KEY'] = '' # Set the secret key\n",
    "os.environ['AWS_DEFAULT_REGION'] = os.environ.get('AWS_REGION', 'us-east-1')"
   ]
  },
  {
   "cell_type": "code",
   "execution_count": 6,
   "metadata": {
    "execution": {
     "iopub.execute_input": "2025-09-12T02:18:17.711271Z",
     "iopub.status.busy": "2025-09-12T02:18:17.711012Z",
     "iopub.status.idle": "2025-09-12T02:18:17.747050Z",
     "shell.execute_reply": "2025-09-12T02:18:17.746523Z",
     "shell.execute_reply.started": "2025-09-12T02:18:17.711249Z"
    }
   },
   "outputs": [],
   "source": [
    "import os\n",
    "import sys\n",
    "\n",
    "# Get the current directory (utils.py is in the same directory)\n",
    "current_dir = os.getcwd()\n",
    "\n",
    "# Add current directory to sys.path if not already there\n",
    "if current_dir not in sys.path:\n",
    "    sys.path.insert(0, current_dir)\n",
    "\n",
    "# Now you can import utils\n",
    "import utils"
   ]
  },
  {
   "cell_type": "code",
   "execution_count": 7,
   "metadata": {
    "execution": {
     "iopub.execute_input": "2025-09-12T02:18:18.324519Z",
     "iopub.status.busy": "2025-09-12T02:18:18.324265Z",
     "iopub.status.idle": "2025-09-12T02:18:28.618196Z",
     "shell.execute_reply": "2025-09-12T02:18:28.617616Z",
     "shell.execute_reply.started": "2025-09-12T02:18:18.324497Z"
    }
   },
   "outputs": [
    {
     "name": "stdout",
     "output_type": "stream",
     "text": [
      "⚠️  Runtime Workshop role not found, creating new role...\n",
      "attaching role policy agentcore-AgentCoreWorkshopRole-role\n",
      "Agentcore gateway role ARN:  arn:aws:iam::885475566683:role/agentcore-AgentCoreWorkshopRole-role\n"
     ]
    }
   ],
   "source": [
    "#### Retrieve existing IAM role from Runtime Workshop\n",
    "# Since we completed the Runtime Workshop first, we can reuse the existing IAM role\n",
    "# instead of creating a new one. This avoids resource duplication.\n",
    "\n",
    "import boto3\n",
    "import importlib\n",
    "import utils\n",
    "importlib.reload(utils)\n",
    "\n",
    "# Try to retrieve existing role first\n",
    "iam_client = boto3.client('iam')\n",
    "try:\n",
    "    # Check if the role from Runtime Workshop exists\n",
    "    role_response = iam_client.get_role(RoleName=\"AgentCoreWorkshopRole\")\n",
    "    agentcore_gateway_iam_role = {'Role': role_response['Role']}\n",
    "    print(\"✅ Retrieved existing IAM role from Runtime Workshop\")\n",
    "    print(\"Agentcore gateway role ARN: \", agentcore_gateway_iam_role['Role']['Arn'])\n",
    "except iam_client.exceptions.NoSuchEntityException:\n",
    "    # If role doesn't exist, create it (fallback for users who skipped Runtime Workshop)\n",
    "    print(\"⚠️  Runtime Workshop role not found, creating new role...\")\n",
    "    agentcore_gateway_iam_role = utils.create_agentcore_gateway_role(\"AgentCoreWorkshopRole\")\n",
    "    print(\"Agentcore gateway role ARN: \", agentcore_gateway_iam_role['Role']['Arn'])"
   ]
  },
  {
   "cell_type": "markdown",
   "metadata": {},
   "source": [
    "### Retrieve existing Cognito User Pool from Runtime Workshop\n",
    "Since the Runtime Workshop already created the Cognito resources, we can reuse them instead of creating duplicates."
   ]
  },
  {
   "cell_type": "code",
   "execution_count": 8,
   "metadata": {
    "execution": {
     "iopub.execute_input": "2025-09-12T02:19:05.463975Z",
     "iopub.status.busy": "2025-09-12T02:19:05.463688Z",
     "iopub.status.idle": "2025-09-12T02:19:06.195586Z",
     "shell.execute_reply": "2025-09-12T02:19:06.195057Z",
     "shell.execute_reply.started": "2025-09-12T02:19:05.463953Z"
    }
   },
   "outputs": [
    {
     "name": "stdout",
     "output_type": "stream",
     "text": [
      "✅ Retrieving existing Cognito resources from Runtime Workshop...\n",
      "Found domain for user pool us-east-1_dSARqD9EA: us-east-1dsarqd9ea (https://us-east-1dsarqd9ea.auth.us-east-1.amazoncognito.com)\n",
      "User Pool ID: us-east-1_dSARqD9EA\n",
      "Resource server confirmed.\n",
      "Client ID: 3lrh2eee013crcckf3hbgfkqka\n",
      "✅ Cognito Discovery URL: https://cognito-idp.us-east-1.amazonaws.com/us-east-1_dSARqD9EA/.well-known/openid-configuration\n"
     ]
    }
   ],
   "source": [
    "import os\n",
    "import boto3\n",
    "import requests\n",
    "import time\n",
    "from botocore.exceptions import ClientError\n",
    "\n",
    "REGION = os.environ['AWS_DEFAULT_REGION']\n",
    "USER_POOL_NAME = \"sample-agentcore-gateway-pool\"\n",
    "RESOURCE_SERVER_ID = \"sample-agentcore-gateway-id\"\n",
    "RESOURCE_SERVER_NAME = \"sample-agentcore-gateway-name\"\n",
    "CLIENT_NAME = \"sample-agentcore-gateway-client\"\n",
    "SCOPES = [\n",
    "    {\"ScopeName\": \"gateway:read\", \"ScopeDescription\": \"Read access\"},\n",
    "    {\"ScopeName\": \"gateway:write\", \"ScopeDescription\": \"Write access\"}\n",
    "]\n",
    "scopeString = f\"{RESOURCE_SERVER_ID}/gateway:read {RESOURCE_SERVER_ID}/gateway:write\"\n",
    "\n",
    "cognito = boto3.client(\"cognito-idp\", region_name=REGION)\n",
    "\n",
    "print(\"✅ Retrieving existing Cognito resources from Runtime Workshop...\")\n",
    "user_pool_id = utils.get_or_create_user_pool(cognito, USER_POOL_NAME)\n",
    "print(f\"User Pool ID: {user_pool_id}\")\n",
    "\n",
    "utils.get_or_create_resource_server(cognito, user_pool_id, RESOURCE_SERVER_ID, RESOURCE_SERVER_NAME, SCOPES)\n",
    "print(\"Resource server confirmed.\")\n",
    "\n",
    "client_id, client_secret  = utils.get_or_create_m2m_client(cognito, user_pool_id, CLIENT_NAME, RESOURCE_SERVER_ID)\n",
    "print(f\"Client ID: {client_id}\")\n",
    "\n",
    "# Get discovery URL  \n",
    "cognito_discovery_url = f'https://cognito-idp.{REGION}.amazonaws.com/{user_pool_id}/.well-known/openid-configuration'\n",
    "print(f\"✅ Cognito Discovery URL: {cognito_discovery_url}\")"
   ]
  },
  {
   "cell_type": "code",
   "execution_count": 9,
   "metadata": {
    "execution": {
     "iopub.execute_input": "2025-09-12T02:19:27.265294Z",
     "iopub.status.busy": "2025-09-12T02:19:27.265035Z",
     "iopub.status.idle": "2025-09-12T02:19:27.269456Z",
     "shell.execute_reply": "2025-09-12T02:19:27.268874Z",
     "shell.execute_reply.started": "2025-09-12T02:19:27.265274Z"
    }
   },
   "outputs": [
    {
     "name": "stdout",
     "output_type": "stream",
     "text": [
      "Stored variables and their in-db values:\n"
     ]
    }
   ],
   "source": [
    "%store -r \n",
    "%store"
   ]
  },
  {
   "cell_type": "code",
   "execution_count": 10,
   "metadata": {
    "execution": {
     "iopub.execute_input": "2025-09-12T02:19:28.378408Z",
     "iopub.status.busy": "2025-09-12T02:19:28.378148Z",
     "iopub.status.idle": "2025-09-12T02:19:28.608081Z",
     "shell.execute_reply": "2025-09-12T02:19:28.607532Z",
     "shell.execute_reply.started": "2025-09-12T02:19:28.378387Z"
    }
   },
   "outputs": [
    {
     "name": "stdout",
     "output_type": "stream",
     "text": [
      "✅ Found existing Gateway from Runtime Workshop: TestGWforOpenAPI\n",
      "Gateway ID: testgwforopenapi-2a2t7audt3\n",
      "Gateway URL: https://testgwforopenapi-2a2t7audt3.gateway.bedrock-agentcore.us-east-1.amazonaws.com/mcp\n"
     ]
    }
   ],
   "source": [
    "# Retrieve the Gateway from Runtime Workshop\n",
    "# The Runtime Workshop created a Gateway that we can reuse for Memory functionality\n",
    "\n",
    "import boto3\n",
    "gateway_client = boto3.client('bedrock-agentcore-control', region_name = os.environ['AWS_DEFAULT_REGION'])\n",
    "\n",
    "# Try to find existing gateway by name first\n",
    "gateway_name = 'TestGWforOpenAPI'\n",
    "gateway_id = None\n",
    "gateway_url = None\n",
    "\n",
    "try:\n",
    "    # List all gateways to find the one from Runtime Workshop\n",
    "    list_response = gateway_client.list_gateways()\n",
    "    existing_gateway = None\n",
    "    \n",
    "    for gateway in list_response.get('items', []):\n",
    "        if gateway['name'] == gateway_name:\n",
    "            existing_gateway = gateway\n",
    "            break\n",
    "    \n",
    "    if existing_gateway:\n",
    "        print(f\"✅ Found existing Gateway from Runtime Workshop: {gateway_name}\")\n",
    "        gateway_id = existing_gateway['gatewayId']\n",
    "        # Get full gateway details to retrieve gatewayUrl\n",
    "        gateway_details = gateway_client.get_gateway(gatewayIdentifier=gateway_id)\n",
    "        gateway_url = gateway_details['gatewayUrl']\n",
    "        print(f\"Gateway ID: {gateway_id}\")\n",
    "        print(f\"Gateway URL: {gateway_url}\")\n",
    "    else:\n",
    "        print(\"⚠️  No existing gateway found from Runtime Workshop\")\n",
    "        print(\"Please complete the Runtime Workshop first, or manually specify gateway ID below:\")\n",
    "        # Fallback: allow manual specification\n",
    "        # gateway_id = \"your-gateway-id-here\"  # Uncomment and set if needed\n",
    "        \n",
    "except Exception as e:\n",
    "    print(f\"❌ Error retrieving gateway: {e}\")\n",
    "    print(\"Please ensure you have completed the Runtime Workshop first.\")"
   ]
  },
  {
   "cell_type": "markdown",
   "metadata": {},
   "source": [
    "# Memory Basics: Understanding AgentCore Memory\n",
    "\n",
    "## What is AgentCore Memory?\n",
    "\n",
    "AgentCore Memory provides two types of memory for your agents:\n",
    "\n",
    "- 🧠 **Short-term Memory**: Raw conversation turns stored for immediate context\n",
    "- 📚 **Long-term Memory**: Intelligent summaries and insights for persistent knowledge\n",
    "- 🔄 **Automatic Management**: Handles memory lifecycle and optimization\n",
    "- 🎯 **Session-based**: Organizes memory by actor and session identifiers"
   ]
  },
  {
   "cell_type": "markdown",
   "metadata": {},
   "source": [
    "# Building the Weather Outfit Agent with Memory\n",
    "\n",
    "Now let's build a more sophisticated agent that combines memory with external API calls. This agent will:\n",
    "\n",
    "- 🌤️ **Remember user preferences** for weather and clothing\n",
    "- 🌍 **Fetch real weather data** from OpenWeatherMap API\n",
    "- 👔 **Provide personalized recommendations** based on memory\n",
    "- 💾 **Store conversation context** for future interactions"
   ]
  },
  {
   "cell_type": "markdown",
   "metadata": {},
   "source": [
    "### Step 1: Verify Docker Installation"
   ]
  },
  {
   "cell_type": "code",
   "execution_count": 11,
   "metadata": {
    "execution": {
     "iopub.execute_input": "2025-09-12T02:19:31.091364Z",
     "iopub.status.busy": "2025-09-12T02:19:31.091096Z",
     "iopub.status.idle": "2025-09-12T02:19:31.135669Z",
     "shell.execute_reply": "2025-09-12T02:19:31.135063Z",
     "shell.execute_reply.started": "2025-09-12T02:19:31.091342Z"
    }
   },
   "outputs": [
    {
     "name": "stdout",
     "output_type": "stream",
     "text": [
      "✅ Docker is installed: Docker version unknown-version, build unknown-commit\n",
      "✅ Docker daemon is running\n"
     ]
    }
   ],
   "source": [
    "import subprocess\n",
    "import sys\n",
    "\n",
    "try:\n",
    "    result = subprocess.run(['docker', '--version'], capture_output=True, text=True, check=True)\n",
    "    print(f\"✅ Docker is installed: {result.stdout.strip()}\")\n",
    "    \n",
    "    # Check if Docker daemon is running\n",
    "    result = subprocess.run(['docker', 'info'], capture_output=True, text=True, check=True)\n",
    "    print(\"✅ Docker daemon is running\")\n",
    "    \n",
    "except subprocess.CalledProcessError as e:\n",
    "    print(f\"❌ Docker issue: {e}\")\n",
    "    print(\"Please ensure Docker Desktop is installed and running.\")\n",
    "except FileNotFoundError:\n",
    "    print(\"❌ Docker is not installed or not in PATH\")\n",
    "    print(\"Please install Docker Desktop from https://www.docker.com/products/docker-desktop\")"
   ]
  },
  {
   "cell_type": "markdown",
   "metadata": {},
   "source": [
    "### Step 2: Update IAM Role with Memory Permissions\n",
    "\n",
    "**🔧 This is the ONLY modification needed from the Runtime Workshop resources.**\n",
    "\n",
    "The existing `AgentCoreWorkshopRole` needs additional Memory permissions to support:\n",
    "- Creating and managing memory resources\n",
    "- Storing and retrieving conversation events\n",
    "- Managing memory lifecycle\n",
    "\n",
    "We'll update the inline policy with the complete set of permissions (including existing ones to ensure nothing breaks)."
   ]
  },
  {
   "cell_type": "markdown",
   "metadata": {},
   "source": [
    "#### 1. Check for our current workshop IAM Role."
   ]
  },
  {
   "cell_type": "code",
   "execution_count": 13,
   "metadata": {
    "execution": {
     "iopub.execute_input": "2025-09-12T02:21:08.243328Z",
     "iopub.status.busy": "2025-09-12T02:21:08.243073Z",
     "iopub.status.idle": "2025-09-12T02:21:08.303503Z",
     "shell.execute_reply": "2025-09-12T02:21:08.302949Z",
     "shell.execute_reply.started": "2025-09-12T02:21:08.243307Z"
    }
   },
   "outputs": [
    {
     "name": "stdout",
     "output_type": "stream",
     "text": [
      "arn:aws:iam::885475566683:role/agentcore-sample-lambdagateway-role\n"
     ]
    }
   ],
   "source": [
    "# Search for current Workshop Role\n",
    "iam_client = boto3.client('iam')\n",
    "role_name = \"agentcore-sample-lambdagateway-role\"\n",
    "role_response = iam_client.get_role(RoleName=role_name)\n",
    "agentcore_iam_role = role_response['Role']['Arn']\n",
    "print(agentcore_iam_role)"
   ]
  },
  {
   "cell_type": "markdown",
   "metadata": {},
   "source": [
    "#### 2. Update current IAM Role's inline policy\n",
    "Let's update the inline policy to the role - \"AgentCoreWorkshopRole\".\n",
    "(‼️ Remember to replace the \"account-id\" to your workshop's account id ‼️):"
   ]
  },
  {
   "cell_type": "code",
   "execution_count": 16,
   "metadata": {
    "execution": {
     "iopub.execute_input": "2025-09-12T02:22:03.914555Z",
     "iopub.status.busy": "2025-09-12T02:22:03.914264Z",
     "iopub.status.idle": "2025-09-12T02:22:03.919385Z",
     "shell.execute_reply": "2025-09-12T02:22:03.918882Z",
     "shell.execute_reply.started": "2025-09-12T02:22:03.914534Z"
    }
   },
   "outputs": [
    {
     "name": "stdout",
     "output_type": "stream",
     "text": [
      "Overwriting execution_role.json\n"
     ]
    }
   ],
   "source": [
    "%%writefile execution_role.json\n",
    "{\n",
    "    \"Version\": \"2012-10-17\",\n",
    "    \"Statement\": [\n",
    "        {\n",
    "            \"Sid\": \"ECRImageAccess\",\n",
    "            \"Effect\": \"Allow\",\n",
    "            \"Action\": [\n",
    "                \"ecr:GetDownloadUrlForLayer\",\n",
    "                \"ecr:BatchGetImage\",\n",
    "                \"ecr:GetAuthorizationToken\"\n",
    "            ],\n",
    "            \"Resource\": [\n",
    "                \"arn:aws:ecr:us-east-1:<account-id>:repository/*\"\n",
    "            ]\n",
    "        },\n",
    "        {\n",
    "            \"Sid\": \"BedrockModelInvocation\",\n",
    "            \"Effect\": \"Allow\",\n",
    "            \"Action\": [\n",
    "                \"bedrock:InvokeModel\",\n",
    "                \"bedrock:InvokeModelWithResponseStream\"\n",
    "            ],\n",
    "            \"Resource\": [\n",
    "                \"arn:aws:bedrock:us-east-1:<account-id>:*\",\n",
    "                \"arn:aws:bedrock:*::foundation-model/*\"\n",
    "            ]\n",
    "        },\n",
    "        {\n",
    "            \"Sid\": \"BedrockAgentCoreAccess\",\n",
    "            \"Effect\": \"Allow\",\n",
    "            \"Action\": [\n",
    "                \"bedrock-agentcore:GetWorkloadAccessToken\",\n",
    "                \"bedrock-agentcore:GetEvent\",\n",
    "                \"bedrock-agentcore:GetWorkloadAccessTokenForUserId\",\n",
    "                \"bedrock-agentcore:GetWorkloadAccessTokenForJWT\",\n",
    "                \"bedrock-agentcore:CreateEvent\",\n",
    "                \"bedrock-agentcore:ListEvents\",\n",
    "                \"bedrock-agentcore:CreateMemory\",\n",
    "                \"bedrock-agentcore:DeleteMemory\",\n",
    "                \"bedrock-agentcore:GetMemory\",\n",
    "                \"bedrock-agentcore:ListMemories\",\n",
    "                \"bedrock-agentcore:UpdateMemory\",\n",
    "                \"bedrock-agentcore:ListMemoryEvents\"\n",
    "            ],\n",
    "            \"Resource\": [\n",
    "                \"arn:aws:bedrock-agentcore:*:<account-id>:memory/*\",\n",
    "                \"arn:aws:bedrock-agentcore:us-east-1:<account-id>:workload-identity-directory/default\",\n",
    "                \"arn:aws:bedrock-agentcore:us-east-1:<account-id>:workload-identity-directory/default/workload-identity/agentcore_WS-*\"\n",
    "            ]\n",
    "        },\n",
    "        {\n",
    "            \"Sid\": \"CloudWatchLogsManagement\",\n",
    "            \"Effect\": \"Allow\",\n",
    "            \"Action\": [\n",
    "                \"logs:DescribeLogStreams\",\n",
    "                \"logs:CreateLogGroup\"\n",
    "            ],\n",
    "            \"Resource\": [\n",
    "                \"arn:aws:logs:us-east-1:<account-id>:log-group:/aws/bedrock-agentcore/runtimes/*\"\n",
    "            ]\n",
    "        },\n",
    "        {\n",
    "            \"Sid\": \"CloudWatchMetrics\",\n",
    "            \"Effect\": \"Allow\",\n",
    "            \"Action\": \"cloudwatch:PutMetricData\",\n",
    "            \"Resource\": \"*\",\n",
    "            \"Condition\": {\n",
    "                \"StringEquals\": {\n",
    "                    \"cloudwatch:namespace\": \"bedrock-agentcore\"\n",
    "                }\n",
    "            }\n",
    "        },\n",
    "        {\n",
    "            \"Sid\": \"ECRTokenAccess\",\n",
    "            \"Effect\": \"Allow\",\n",
    "            \"Action\": [\n",
    "                \"ecr:GetAuthorizationToken\"\n",
    "            ],\n",
    "            \"Resource\": \"*\"\n",
    "        },\n",
    "        {\n",
    "            \"Sid\": \"XRayTracing\",\n",
    "            \"Effect\": \"Allow\",\n",
    "            \"Action\": [\n",
    "                \"xray:PutTelemetryRecords\",\n",
    "                \"xray:GetSamplingRules\",\n",
    "                \"xray:GetSamplingTargets\",\n",
    "                \"xray:PutTraceSegments\"\n",
    "            ],\n",
    "            \"Resource\": \"*\"\n",
    "        },\n",
    "        {\n",
    "            \"Sid\": \"CloudWatchLogsWrite\",\n",
    "            \"Effect\": \"Allow\",\n",
    "            \"Action\": [\n",
    "                \"logs:CreateLogStream\",\n",
    "                \"logs:PutLogEvents\"\n",
    "            ],\n",
    "            \"Resource\": \"arn:aws:logs:us-east-1:<account-id>:log-group:/aws/bedrock-agentcore/runtimes/*:log-stream:*\"\n",
    "        },\n",
    "        {\n",
    "            \"Sid\": \"CloudWatchLogsDescribe\",\n",
    "            \"Effect\": \"Allow\",\n",
    "            \"Action\": \"logs:DescribeLogGroups\",\n",
    "            \"Resource\": \"arn:aws:logs:us-east-1:<account-id>:log-group:*\"\n",
    "        }\n",
    "    ]\n",
    "}"
   ]
  },
  {
   "cell_type": "code",
   "execution_count": 17,
   "metadata": {
    "execution": {
     "iopub.execute_input": "2025-09-12T02:22:12.185352Z",
     "iopub.status.busy": "2025-09-12T02:22:12.185095Z",
     "iopub.status.idle": "2025-09-12T02:22:12.299232Z",
     "shell.execute_reply": "2025-09-12T02:22:12.298655Z",
     "shell.execute_reply.started": "2025-09-12T02:22:12.185330Z"
    }
   },
   "outputs": [
    {
     "name": "stdout",
     "output_type": "stream",
     "text": [
      "Inline policy AgentCoreWorkshopPolicy updated for role agentcore-sample-lambdagateway-role\n"
     ]
    },
    {
     "data": {
      "text/plain": [
       "True"
      ]
     },
     "execution_count": 17,
     "metadata": {},
     "output_type": "execute_result"
    }
   ],
   "source": [
    "## Update inline policy \n",
    "\n",
    "import boto3\n",
    "import json\n",
    "\n",
    "def update_inline_policy(role_name, policy_name, json_file_path):\n",
    "    \"\"\"\n",
    "    Update inline policy for IAM role\n",
    "    \"\"\"\n",
    "    iam = boto3.client('iam')\n",
    "    \n",
    "    # Read JSON policy file\n",
    "    with open(json_file_path, 'r') as f:\n",
    "        policy_document = json.load(f)\n",
    "    \n",
    "    try:\n",
    "        # Put/update inline policy\n",
    "        iam.put_role_policy(\n",
    "            RoleName=role_name,\n",
    "            PolicyName=policy_name,\n",
    "            PolicyDocument=json.dumps(policy_document)\n",
    "        )\n",
    "        \n",
    "        print(f\"Inline policy {policy_name} updated for role {role_name}\")\n",
    "        return True\n",
    "        \n",
    "    except Exception as e:\n",
    "        print(f\"Error: {e}\")\n",
    "        return False\n",
    "\n",
    "# Usage\n",
    "role_name = \"agentcore-sample-lambdagateway-role\"\n",
    "json_file = \"execution_role.json\"\n",
    "policy_name = \"AgentCoreWorkshopPolicy\"\n",
    "\n",
    "update_inline_policy(role_name, policy_name, json_file)"
   ]
  },
  {
   "cell_type": "markdown",
   "metadata": {},
   "source": [
    "### Step 3: Create a New ECR Repository\n",
    "Next, let's create an ECR repository to store our agent's Docker image:"
   ]
  },
  {
   "cell_type": "code",
   "execution_count": 18,
   "metadata": {
    "execution": {
     "iopub.execute_input": "2025-09-12T02:22:14.869399Z",
     "iopub.status.busy": "2025-09-12T02:22:14.869124Z",
     "iopub.status.idle": "2025-09-12T02:22:15.077403Z",
     "shell.execute_reply": "2025-09-12T02:22:15.076811Z",
     "shell.execute_reply.started": "2025-09-12T02:22:14.869376Z"
    }
   },
   "outputs": [
    {
     "name": "stdout",
     "output_type": "stream",
     "text": [
      "📦 Creating Workshop ECR Repository\n",
      "========================================\n",
      "Creating ECR repository: agentcore-memory-workshop\n",
      "✅ ECR repository created successfully!\n",
      "   Repository URI: 885475566683.dkr.ecr.us-east-1.amazonaws.com/agentcore-memory-workshop\n",
      "\n",
      "🎉 Workshop ECR ready!\n",
      "Repository URI: 885475566683.dkr.ecr.us-east-1.amazonaws.com/agentcore-memory-workshop\n",
      "Registry URL: 885475566683.dkr.ecr.us-east-1.amazonaws.com\n"
     ]
    }
   ],
   "source": [
    "# Create Workshop ECR Repository\n",
    "import boto3\n",
    "print(\"📦 Creating Workshop ECR Repository\")\n",
    "print(\"=\" * 40)\n",
    "\n",
    "def create_workshop_ecr():\n",
    "    \"\"\"Create ECR repository for workshop agents\"\"\"\n",
    "    \n",
    "    ecr_client = boto3.client('ecr')\n",
    "    session = boto3.Session()\n",
    "    region = session.region_name\n",
    "    account_id = boto3.client('sts').get_caller_identity()['Account']\n",
    "    repository_name = \"agentcore-memory-workshop\"\n",
    "    \n",
    "    try:\n",
    "        # Create ECR repository\n",
    "        print(f\"Creating ECR repository: {repository_name}\")\n",
    "        response = ecr_client.create_repository(\n",
    "            repositoryName=repository_name,\n",
    "            imageScanningConfiguration={'scanOnPush': True},\n",
    "            encryptionConfiguration={'encryptionType': 'AES256'}\n",
    "        )\n",
    "        \n",
    "        repository_uri = response['repository']['repositoryUri']\n",
    "        print(f\"✅ ECR repository created successfully!\")\n",
    "        print(f\"   Repository URI: {repository_uri}\")\n",
    "        \n",
    "    except ecr_client.exceptions.RepositoryAlreadyExistsException:\n",
    "        print(f\"⚠️ Repository {repository_name} already exists\")\n",
    "        response = ecr_client.describe_repositories(repositoryNames=[repository_name])\n",
    "        repository_uri = response['repositories'][0]['repositoryUri']\n",
    "        print(f\"   Using existing repository: {repository_uri}\")\n",
    "        \n",
    "    except Exception as e:\n",
    "        print(f\"❌ Error creating ECR repository: {e}\")\n",
    "        return None\n",
    "    \n",
    "    return {\n",
    "        'repository_uri': repository_uri,\n",
    "        'registry_url': f\"{account_id}.dkr.ecr.{region}.amazonaws.com\",\n",
    "        'region': region,\n",
    "        'account_id': account_id\n",
    "    }\n",
    "\n",
    "# Create workshop ECR repository\n",
    "workshop_ecr = create_workshop_ecr()\n",
    "\n",
    "if workshop_ecr:\n",
    "    workshop_ecr_url = workshop_ecr['repository_uri']\n",
    "    print(f\"\\n🎉 Workshop ECR ready!\")\n",
    "    print(f\"Repository URI: {workshop_ecr['repository_uri']}\")\n",
    "    print(f\"Registry URL: {workshop_ecr['registry_url']}\")\n",
    "else:\n",
    "    print(\"\\n❌ Failed to create workshop ECR. Please check AWS permissions.\")"
   ]
  },
  {
   "cell_type": "markdown",
   "metadata": {},
   "source": [
    "### Step 4: Create your Memory Agent for AgentCore Runtime\n",
    "\n",
    "Since we're going to deploy the basic agent with memory to agentcore runtime, we need to copy the Python code we previously wrote to the ```weather_agent_gateway_memory.py```.\n"
   ]
  },
  {
   "cell_type": "code",
   "execution_count": 19,
   "metadata": {
    "execution": {
     "iopub.execute_input": "2025-09-12T02:22:16.471655Z",
     "iopub.status.busy": "2025-09-12T02:22:16.471312Z",
     "iopub.status.idle": "2025-09-12T02:22:16.481788Z",
     "shell.execute_reply": "2025-09-12T02:22:16.481244Z",
     "shell.execute_reply.started": "2025-09-12T02:22:16.471593Z"
    }
   },
   "outputs": [
    {
     "name": "stdout",
     "output_type": "stream",
     "text": [
      "Writing weather_agent_gateway_memory.py\n"
     ]
    }
   ],
   "source": [
    "%%writefile weather_agent_gateway_memory.py\n",
    "\n",
    "# Weather Agent with AgentCore Gateway and Memory Integration for Runtime\n",
    "import os\n",
    "import logging\n",
    "import base64\n",
    "import requests\n",
    "from datetime import datetime\n",
    "from strands import Agent\n",
    "from strands.hooks import AgentInitializedEvent, HookProvider, HookRegistry, MessageAddedEvent\n",
    "from strands.models import BedrockModel\n",
    "from bedrock_agentcore.runtime import BedrockAgentCoreApp\n",
    "from bedrock_agentcore.memory import MemoryClient\n",
    "from mcp.client.streamable_http import streamablehttp_client\n",
    "from strands.tools.mcp.mcp_client import MCPClient\n",
    "from botocore.exceptions import ClientError\n",
    "\n",
    "# Setup logging\n",
    "logging.basicConfig(level=logging.INFO)\n",
    "logger = logging.getLogger(\"weather-agent-gateway-memory\")\n",
    "\n",
    "# Create AgentCore Runtime app\n",
    "app = BedrockAgentCoreApp()\n",
    "\n",
    "# Configuration - these will be set as environment variables or passed in payload\n",
    "REGION = os.getenv('AWS_REGION', 'us-east-1')\n",
    "GATEWAY_URL = os.getenv('GATEWAY_URL')\n",
    "COGNITO_CLIENT_ID = os.getenv('COGNITO_CLIENT_ID')\n",
    "COGNITO_CLIENT_SECRET = os.getenv('COGNITO_CLIENT_SECRET') \n",
    "COGNITO_USER_POOL_ID = os.getenv('COGNITO_USER_POOL_ID')\n",
    "MEMORY_ID = os.getenv('MEMORY_ID')  # Set your memory ID here\n",
    "\n",
    "logger.info(f\"Configuration - Region: {REGION}\")\n",
    "\n",
    "class WeatherMemoryHook(HookProvider):\n",
    "    \"\"\"Enhanced memory hook for weather agent with better context management\"\"\"\n",
    "    \n",
    "    def __init__(self, memory_client: MemoryClient, memory_id: str, actor_id: str, session_id: str):\n",
    "        self.memory_client = memory_client\n",
    "        self.memory_id = memory_id\n",
    "        self.actor_id = actor_id\n",
    "        self.session_id = session_id\n",
    "        logger.info(f\"Weather memory hook initialized for session: {session_id}\")\n",
    "    \n",
    "    def on_agent_initialized(self, event: AgentInitializedEvent):\n",
    "        \"\"\"Load recent conversation history when agent starts\"\"\"\n",
    "        try:\n",
    "            logger.info(f\"Loading weather conversation history for memory_id: {self.memory_id}\")\n",
    "            # Load the last 3 conversation turns from memory\n",
    "            recent_turns = self.memory_client.get_last_k_turns(\n",
    "                memory_id=self.memory_id,\n",
    "                actor_id=self.actor_id,\n",
    "                session_id=self.session_id,\n",
    "                k=3\n",
    "            )\n",
    "            \n",
    "            if recent_turns:\n",
    "                # Format conversation history for context\n",
    "                context_messages = []\n",
    "                for turn in recent_turns:\n",
    "                    for message in turn:\n",
    "                        role = message['role']\n",
    "                        content = message['content']['text']\n",
    "                        context_messages.append(f\"{role}: {content}\")\n",
    "                \n",
    "                context = \"\\n\".join(context_messages)\n",
    "                # Add context to agent's system prompt\n",
    "                event.agent.system_prompt += f\"\\n\\nRecent conversation history:\\n{context}\"\n",
    "                logger.info(f\"Loaded {len(recent_turns)} weather conversation turns\")\n",
    "            else:\n",
    "                logger.info(\"No previous weather conversation history found\")\n",
    "                \n",
    "        except Exception as e:\n",
    "            logger.error(f\"Weather memory load error: {e}\")\n",
    "    \n",
    "    def on_message_added(self, event: MessageAddedEvent):\n",
    "        \"\"\"Store messages in memory with error handling\"\"\"\n",
    "        messages = event.agent.messages\n",
    "        latest_message = messages[-1]\n",
    "        \n",
    "        try:\n",
    "            # Extract text content\n",
    "            content_text = self.extract_message_content(latest_message)\n",
    "            if content_text:\n",
    "                logger.info(f\"Saving message to memory_id: {self.memory_id}\")\n",
    "                self.memory_client.create_event(\n",
    "                    memory_id=self.memory_id,\n",
    "                    actor_id=self.actor_id,\n",
    "                    session_id=self.session_id,\n",
    "                    messages=[(content_text, latest_message[\"role\"])]\n",
    "                )\n",
    "                logger.info(f\"Successfully saved {latest_message['role']} message to weather memory\")\n",
    "        except Exception as e:\n",
    "            logger.error(f\"Weather memory save error: {e}\")\n",
    "    \n",
    "    def extract_message_content(self, message):\n",
    "        \"\"\"Extract text content from message, handling different content types\"\"\"\n",
    "        content = message.get(\"content\", [])\n",
    "        if not content:\n",
    "            return None\n",
    "        \n",
    "        # Handle the first content item\n",
    "        first_content = content[0]\n",
    "        if isinstance(first_content, dict) and 'text' in first_content:\n",
    "            return first_content['text']\n",
    "        \n",
    "        return None\n",
    "    \n",
    "    def register_hooks(self, registry: HookRegistry):\n",
    "        # Register memory hooks\n",
    "        registry.add_callback(MessageAddedEvent, self.on_message_added)\n",
    "        registry.add_callback(AgentInitializedEvent, self.on_agent_initialized)\n",
    "\n",
    "def get_cognito_token(user_pool_id, client_id, client_secret):\n",
    "    \"\"\"Get OAuth token from Cognito for Gateway access\"\"\"\n",
    "    try:\n",
    "        user_pool_domain = user_pool_id.lower().replace('_', '')\n",
    "        token_endpoint = f\"https://{user_pool_domain}.auth.{REGION}.amazoncognito.com/oauth2/token\"\n",
    "        \n",
    "        logger.info(f\"Using token endpoint: {token_endpoint}\")\n",
    "        \n",
    "        # Prepare client credentials\n",
    "        credentials = f\"{client_id}:{client_secret}\"\n",
    "        encoded_credentials = base64.b64encode(credentials.encode()).decode()\n",
    "        \n",
    "        # Request token\n",
    "        headers = {\n",
    "            'Authorization': f'Basic {encoded_credentials}',\n",
    "            'Content-Type': 'application/x-www-form-urlencoded'\n",
    "        }\n",
    "        \n",
    "        data = {\n",
    "            'grant_type': 'client_credentials',\n",
    "            'scope': 'sample-agentcore-gateway-id/gateway:read sample-agentcore-gateway-id/gateway:write'\n",
    "        }\n",
    "        \n",
    "        response = requests.post(token_endpoint, headers=headers, data=data)\n",
    "        \n",
    "        if response.status_code == 200:\n",
    "            token_data = response.json()\n",
    "            logger.info(\"Successfully obtained Cognito token\")\n",
    "            return token_data['access_token']\n",
    "        else:\n",
    "            logger.error(f\"Failed to get token: {response.status_code} - {response.text}\")\n",
    "            return None\n",
    "            \n",
    "    except Exception as e:\n",
    "        logger.error(f\"Error getting Cognito token: {e}\")\n",
    "        return None\n",
    "\n",
    "def create_mcp_client_transport(gateway_url, token):\n",
    "    \"\"\"Create MCP client transport with Gateway authentication\"\"\"\n",
    "    return streamablehttp_client(gateway_url, headers={\"Authorization\": f\"Bearer {token}\"})\n",
    "\n",
    "def ensure_memory_exists(memory_client, memory_name):\n",
    "    \"\"\"Ensure memory resource exists, create if it doesn't\"\"\"\n",
    "    try:\n",
    "        # Try to list memories and find existing one\n",
    "        memories = memory_client.list_memories()\n",
    "        memory_id = next((m['id'] for m in memories if m['id'].startswith(memory_name)), None)\n",
    "        \n",
    "        if memory_id:\n",
    "            logger.info(f\"Using existing memory: {memory_id}\")\n",
    "            return memory_id\n",
    "        else:\n",
    "            logger.info(f\"Creating new memory: {memory_name}\")\n",
    "            memory = memory_client.create_memory_and_wait(\n",
    "                name=memory_name,\n",
    "                strategies=[],  # No strategies for short-term memory\n",
    "                description=\"Weather agent memory for gateway integration\",\n",
    "                event_expiry_days=7,\n",
    "            )\n",
    "            memory_id = memory['id']\n",
    "            logger.info(f\"Created new memory: {memory_id}\")\n",
    "            return memory_id\n",
    "            \n",
    "    except ClientError as e:\n",
    "        if e.response['Error']['Code'] == 'ValidationException' and \"already exists\" in str(e):\n",
    "            # If memory already exists, retrieve its ID\n",
    "            memories = memory_client.list_memories()\n",
    "            memory_id = next((m['id'] for m in memories if m['id'].startswith(memory_name)), None)\n",
    "            logger.info(f\"Memory already exists. Using existing memory ID: {memory_id}\")\n",
    "            return memory_id\n",
    "        else:\n",
    "            logger.error(f\"Error managing memory: {e}\")\n",
    "            raise\n",
    "    except Exception as e:\n",
    "        logger.error(f\"Unexpected error managing memory: {e}\")\n",
    "        raise\n",
    "\n",
    "@app.entrypoint\n",
    "def invoke_weather_agent_with_gateway_and_memory(payload):\n",
    "    \"\"\"Weather Agent with Gateway and Memory Integration\"\"\"\n",
    "    \n",
    "    # Get parameters from payload\n",
    "    user_input = payload.get(\"prompt\", \"Hello\")\n",
    "    gateway_url = payload.get(\"gateway_url\", GATEWAY_URL)\n",
    "    memory_name = payload.get(\"memory_name\", \"WeatherAgentMemory\")\n",
    "    \n",
    "    # Override config from payload if provided\n",
    "    client_id = payload.get(\"cognito_client_id\", COGNITO_CLIENT_ID)\n",
    "    client_secret = payload.get(\"cognito_client_secret\", COGNITO_CLIENT_SECRET)\n",
    "    user_pool_id = payload.get(\"cognito_user_pool_id\", COGNITO_USER_POOL_ID)\n",
    "    \n",
    "    # Actor and session IDs for memory\n",
    "    actor_id = payload.get(\"actor_id\", f\"user-{datetime.now().strftime('%Y%m%d')}\")\n",
    "    session_id = payload.get(\"session_id\", f\"session-{datetime.now().strftime('%Y%m%d%H%M%S')}\")\n",
    "    \n",
    "    logger.info(f\"Processing request with Gateway URL: {gateway_url}\")\n",
    "    logger.info(f\"User input: {user_input}\")\n",
    "    logger.info(f\"Memory: {memory_name}, Actor: {actor_id}, Session: {session_id}\")\n",
    "    \n",
    "    # Validate required parameters\n",
    "    if not all([gateway_url, client_id, client_secret, user_pool_id]):\n",
    "        missing = []\n",
    "        if not gateway_url: missing.append(\"gateway_url\")\n",
    "        if not client_id: missing.append(\"cognito_client_id\")\n",
    "        if not client_secret: missing.append(\"cognito_client_secret\") \n",
    "        if not user_pool_id: missing.append(\"cognito_user_pool_id\")\n",
    "        \n",
    "        error_msg = f\"Missing required parameters: {', '.join(missing)}\"\n",
    "        logger.error(error_msg)\n",
    "        return {\n",
    "            \"error\": error_msg,\n",
    "            \"missing_params\": missing,\n",
    "            \"timestamp\": datetime.now().isoformat()\n",
    "        }\n",
    "    \n",
    "    try:\n",
    "        # Initialize memory client\n",
    "        memory_client = MemoryClient(region_name=REGION)\n",
    "        \n",
    "        # Ensure memory exists\n",
    "        memory_id = ensure_memory_exists(memory_client, memory_name)\n",
    "        \n",
    "        # Get authentication token\n",
    "        logger.info(\"Getting Cognito authentication token...\")\n",
    "        token = get_cognito_token(user_pool_id, client_id, client_secret)\n",
    "        if not token:\n",
    "            raise ValueError(\"Failed to get authentication token\")\n",
    "            \n",
    "        logger.info(\"Successfully obtained authentication token\")\n",
    "        \n",
    "        # Create MCP client for Gateway\n",
    "        def create_transport():\n",
    "            return create_mcp_client_transport(gateway_url, token)\n",
    "        \n",
    "        mcp_client = MCPClient(create_transport)\n",
    "        \n",
    "        # Setup Bedrock model\n",
    "        model = BedrockModel(\n",
    "            model_id=\"us.anthropic.claude-3-7-sonnet-20250219-v1:0\",\n",
    "            temperature=0.7\n",
    "        )\n",
    "        \n",
    "        # Connect to Gateway and get tools\n",
    "        with mcp_client:\n",
    "            # Get available tools from Gateway\n",
    "            tools = mcp_client.list_tools_sync()\n",
    "            logger.info(f\"Retrieved {len(tools) if tools else 0} tools from Gateway\")\n",
    "            \n",
    "            if tools:\n",
    "                tool_names = [tool.tool_name for tool in tools]\n",
    "                logger.info(f\"Available tools: {tool_names}\")\n",
    "            \n",
    "            # Create memory hook\n",
    "            memory_hook = WeatherMemoryHook(\n",
    "                memory_client=memory_client,\n",
    "                memory_id=memory_id,\n",
    "                actor_id=actor_id,\n",
    "                session_id=session_id\n",
    "            )\n",
    "            \n",
    "            # Create enhanced system prompt for weather agent with memory\n",
    "            system_prompt = \"\"\"You are a professional weather assistant with both memory capabilities and access to OpenWeather API tools through an AgentCore Gateway.\n",
    "\n",
    "            When users ask about weather:\n",
    "            1. Use the available OpenWeather API tools to get current weather and forecasts\n",
    "            2. Remember user preferences and previous conversations from your memory\n",
    "            3. Provide clear, helpful weather information including temperature, conditions, humidity, and wind speed\n",
    "            4. Give practical clothing and activity recommendations based on both weather conditions and remembered user preferences\n",
    "            5. Reference previous conversations when relevant to provide personalized responses\n",
    "            6. Be friendly and conversational in your responses\n",
    "            7. If asked about multiple cities, provide useful comparisons\n",
    "            8. Consider the user's context and provide relevant advice\n",
    "\n",
    "            Available tools include:\n",
    "            - getCurrentWeather: For current weather conditions in a specified location\n",
    "            - getWeatherForecast: For 5-day weather forecasts\n",
    "\n",
    "            Always use the tools to get real-time weather data rather than providing generic responses. When you cannot access weather data, explain what happened and suggest alternatives.\n",
    "            \n",
    "            Use your memory to provide personalized recommendations based on the user's past preferences and conversations.\"\"\"\n",
    "            \n",
    "            # Create the agent with Gateway tools and memory\n",
    "            agent = Agent(\n",
    "                model=model,\n",
    "                tools=tools if tools else [],\n",
    "                hooks=[memory_hook],\n",
    "                system_prompt=system_prompt\n",
    "            )\n",
    "            \n",
    "            # Process user input\n",
    "            logger.info(f\"Processing user input with {len(tools) if tools else 0} tools and memory available\")\n",
    "            response = agent(user_input)\n",
    "            \n",
    "            # Extract response content safely\n",
    "            try:\n",
    "                if hasattr(response, 'message') and response.message:\n",
    "                    if isinstance(response.message, dict) and 'content' in response.message:\n",
    "                        content = response.message['content']\n",
    "                        if isinstance(content, list) and len(content) > 0:\n",
    "                            response_text = content[0].get('text', str(content))\n",
    "                        else:\n",
    "                            response_text = str(content)\n",
    "                    else:\n",
    "                        response_text = str(response.message)\n",
    "                else:\n",
    "                    response_text = str(response)\n",
    "            except Exception as e:\n",
    "                logger.warning(f\"Error extracting response content: {e}\")\n",
    "                response_text = str(response)\n",
    "            \n",
    "            # Return structured response\n",
    "            result = {\n",
    "                \"response\": response_text,\n",
    "                \"timestamp\": datetime.now().isoformat(),\n",
    "                \"tools_available\": len(tools) if tools else 0,\n",
    "                \"memory_id\": memory_id,\n",
    "                \"actor_id\": actor_id,\n",
    "                \"session_id\": session_id,\n",
    "                \"gateway_url\": gateway_url,\n",
    "                \"status\": \"success\"\n",
    "            }\n",
    "            \n",
    "            logger.info(\"Successfully processed request with Gateway tools and memory\")\n",
    "            return result\n",
    "            \n",
    "    except Exception as e:\n",
    "        logger.error(f\"Error processing request: {str(e)}\", exc_info=True)\n",
    "        return {\n",
    "            \"error\": str(e),\n",
    "            \"timestamp\": datetime.now().isoformat(),\n",
    "            \"gateway_url\": gateway_url,\n",
    "            \"status\": \"error\",\n",
    "            \"troubleshooting\": \"Check Gateway URL, Cognito configuration, Memory setup, and ensure OpenWeather target is properly configured in Gateway\"\n",
    "        }\n",
    "\n",
    "if __name__ == \"__main__\":\n",
    "    app.run()"
   ]
  },
  {
   "cell_type": "code",
   "execution_count": 20,
   "metadata": {
    "execution": {
     "iopub.execute_input": "2025-09-12T02:22:17.957360Z",
     "iopub.status.busy": "2025-09-12T02:22:17.957106Z",
     "iopub.status.idle": "2025-09-12T02:22:18.070299Z",
     "shell.execute_reply": "2025-09-12T02:22:18.069783Z",
     "shell.execute_reply.started": "2025-09-12T02:22:17.957339Z"
    }
   },
   "outputs": [
    {
     "name": "stdout",
     "output_type": "stream",
     "text": [
      "📝 Created .env.runtime file with configuration\n"
     ]
    }
   ],
   "source": [
    "from bedrock_agentcore_starter_toolkit import Runtime\n",
    "        \n",
    "# Write environment configuration file\n",
    "env_config = {\n",
    "\"GATEWAY_URL\": gateway_url,\n",
    "\"COGNITO_CLIENT_ID\": client_id,\n",
    "\"COGNITO_CLIENT_SECRET\": client_secret,\n",
    "\"COGNITO_USER_POOL_ID\": user_pool_id,\n",
    "\"AWS_REGION\": REGION\n",
    "}\n",
    "\n",
    "with open('.env.runtime', 'w') as f:\n",
    "    for key, value in env_config.items():\n",
    "        f.write(f\"{key}={value}\\n\")\n",
    "\n",
    "print(\"📝 Created .env.runtime file with configuration\")\n"
   ]
  },
  {
   "cell_type": "markdown",
   "metadata": {},
   "source": [
    "#### Create a ```requirement.txt``` For Your AgentCore\n",
    "Since we're going to create an docker image for the strands agent and deploy to AgentCore Runtime, we need a `requirement.txt` to include all the libraries."
   ]
  },
  {
   "cell_type": "code",
   "execution_count": 21,
   "metadata": {
    "execution": {
     "iopub.execute_input": "2025-09-12T02:22:19.142396Z",
     "iopub.status.busy": "2025-09-12T02:22:19.142036Z",
     "iopub.status.idle": "2025-09-12T02:22:19.145714Z",
     "shell.execute_reply": "2025-09-12T02:22:19.145188Z",
     "shell.execute_reply.started": "2025-09-12T02:22:19.142373Z"
    }
   },
   "outputs": [
    {
     "name": "stdout",
     "output_type": "stream",
     "text": [
      "Overwriting requirements.txt\n"
     ]
    }
   ],
   "source": [
    "%%writefile requirements.txt\n",
    "strands-agents\n",
    "strands-agents-tools\n",
    "bedrock-agentcore\n",
    "boto3\n",
    "mcp"
   ]
  },
  {
   "cell_type": "markdown",
   "metadata": {},
   "source": [
    "### Step 5: Configure AgentCore Runtime\n",
    "\n",
    "Now let's configure the runtime for deployment:"
   ]
  },
  {
   "cell_type": "code",
   "execution_count": 22,
   "metadata": {
    "execution": {
     "iopub.execute_input": "2025-09-12T02:22:22.251861Z",
     "iopub.status.busy": "2025-09-12T02:22:22.251541Z",
     "iopub.status.idle": "2025-09-12T02:22:22.376167Z",
     "shell.execute_reply": "2025-09-12T02:22:22.375655Z",
     "shell.execute_reply.started": "2025-09-12T02:22:22.251837Z"
    }
   },
   "outputs": [
    {
     "name": "stderr",
     "output_type": "stream",
     "text": [
      "Entrypoint parsed: file=/home/sagemaker-user/strands-agentcore-jupyter/gateway_runtime/weather_agent_gateway_memory.py, bedrock_agentcore_name=weather_agent_gateway_memory\n",
      "Configuring BedrockAgentCore agent: weather_agent_gateway_memory\n"
     ]
    },
    {
     "data": {
      "text/html": [
       "<pre style=\"white-space:pre;overflow-x:auto;line-height:normal;font-family:Menlo,'DejaVu Sans Mono',consolas,'Courier New',monospace\">\n",
       "<span style=\"color: #808000; text-decoration-color: #808000; font-weight: bold; text-decoration: underline\">⚠️  [WARNING] Platform mismatch: Current system is </span><span style=\"color: #008000; text-decoration-color: #008000; text-decoration: underline\">'linux/amd64'</span><span style=\"color: #808000; text-decoration-color: #808000; font-weight: bold; text-decoration: underline\"> but Bedrock AgentCore requires </span><span style=\"color: #008000; text-decoration-color: #008000; text-decoration: underline\">'linux/arm64'</span><span style=\"color: #808000; text-decoration-color: #808000; font-weight: bold; text-decoration: underline\">.</span>\n",
       "<span style=\"color: #808000; text-decoration-color: #808000; font-weight: bold; text-decoration: underline\">For deployment options and workarounds, see: </span>\n",
       "<span style=\"color: #0000ff; text-decoration-color: #0000ff; text-decoration: underline\">https://docs.aws.amazon.com/bedrock-agentcore/latest/devguide/getting-started-custom.html</span>\n",
       "\n",
       "</pre>\n"
      ],
      "text/plain": [
       "\n",
       "\u001b[1;4;33m⚠️  \u001b[0m\u001b[1;4;33m[\u001b[0m\u001b[1;4;33mWARNING\u001b[0m\u001b[1;4;33m]\u001b[0m\u001b[1;4;33m Platform mismatch: Current system is \u001b[0m\u001b[4;32m'linux/amd64'\u001b[0m\u001b[1;4;33m but Bedrock AgentCore requires \u001b[0m\u001b[4;32m'linux/arm64'\u001b[0m\u001b[1;4;33m.\u001b[0m\n",
       "\u001b[1;4;33mFor deployment options and workarounds, see: \u001b[0m\n",
       "\u001b[4;94mhttps://docs.aws.amazon.com/bedrock-agentcore/latest/devguide/getting-started-custom.html\u001b[0m\n",
       "\n"
      ]
     },
     "metadata": {},
     "output_type": "display_data"
    },
    {
     "name": "stderr",
     "output_type": "stream",
     "text": [
      "Generated Dockerfile: /home/sagemaker-user/strands-agentcore-jupyter/gateway_runtime/Dockerfile\n",
      "Generated .dockerignore: /home/sagemaker-user/strands-agentcore-jupyter/gateway_runtime/.dockerignore\n",
      "Changing default agent from 'weather_agent_gateway' to 'weather_agent_gateway_memory'\n",
      "Bedrock AgentCore configured: /home/sagemaker-user/strands-agentcore-jupyter/gateway_runtime/.bedrock_agentcore.yaml\n"
     ]
    },
    {
     "data": {
      "text/plain": [
       "ConfigureResult(config_path=PosixPath('/home/sagemaker-user/strands-agentcore-jupyter/gateway_runtime/.bedrock_agentcore.yaml'), dockerfile_path=PosixPath('/home/sagemaker-user/strands-agentcore-jupyter/gateway_runtime/Dockerfile'), dockerignore_path=PosixPath('/home/sagemaker-user/strands-agentcore-jupyter/gateway_runtime/.dockerignore'), runtime='Docker', region='us-east-1', account_id='885475566683', execution_role='arn:aws:iam::885475566683:role/agentcore-sample-lambdagateway-role', ecr_repository='885475566683.dkr.ecr.us-east-1.amazonaws.com/agentcore-memory-workshop', auto_create_ecr=False)"
      ]
     },
     "execution_count": 22,
     "metadata": {},
     "output_type": "execute_result"
    }
   ],
   "source": [
    "# Configure basics agent for deployment\n",
    "from bedrock_agentcore_starter_toolkit import Runtime\n",
    "weather_agent_gateway_memory_runtime = Runtime()\n",
    "weather_agent_gateway_memory_runtime_name = \"weather_agent_gateway_memory\"\n",
    "region = \"us-east-1\"\n",
    "\n",
    "weather_response = weather_agent_gateway_memory_runtime.configure(\n",
    "    entrypoint=\"weather_agent_gateway_memory.py\",\n",
    "    execution_role=agentcore_iam_role,\n",
    "    auto_create_ecr=True,\n",
    "    requirements_file=\"requirements.txt\",\n",
    "    region=region,\n",
    "    ecr_repository=workshop_ecr_url\n",
    ")\n",
    "weather_response"
   ]
  },
  {
   "cell_type": "markdown",
   "metadata": {},
   "source": [
    "### Step 6: Launch Agent to AgentCore Runtime\n",
    "\n",
    "Now we configured the agentcore runtime, let's launch the agent to AgentCore Runtime in AWS!\n",
    "This will push the image to ECR repository and the AgentCore Runtime."
   ]
  },
  {
   "cell_type": "code",
   "execution_count": 23,
   "metadata": {
    "execution": {
     "iopub.execute_input": "2025-09-12T02:22:27.158290Z",
     "iopub.status.busy": "2025-09-12T02:22:27.158013Z",
     "iopub.status.idle": "2025-09-12T02:23:18.632522Z",
     "shell.execute_reply": "2025-09-12T02:23:18.631990Z",
     "shell.execute_reply.started": "2025-09-12T02:22:27.158268Z"
    }
   },
   "outputs": [
    {
     "name": "stderr",
     "output_type": "stream",
     "text": [
      "🚀 CodeBuild mode: building in cloud (RECOMMENDED - DEFAULT)\n",
      "   • Build ARM64 containers in the cloud with CodeBuild\n",
      "   • No local Docker required\n",
      "💡 Available deployment modes:\n",
      "   • runtime.launch()                           → CodeBuild (current)\n",
      "   • runtime.launch(local=True)                 → Local development\n",
      "   • runtime.launch(local_build=True)           → Local build + cloud deploy (NEW)\n",
      "Starting CodeBuild ARM64 deployment for agent 'weather_agent_gateway_memory' to account 885475566683 (us-east-1)\n",
      "Setting up AWS resources (ECR repository, execution roles)...\n",
      "Using ECR repository from config: 885475566683.dkr.ecr.us-east-1.amazonaws.com/agentcore-memory-workshop\n",
      "Using execution role from config: arn:aws:iam::885475566683:role/agentcore-sample-lambdagateway-role\n",
      "Preparing CodeBuild project and uploading source...\n",
      "Getting or creating CodeBuild execution role for agent: weather_agent_gateway_memory\n",
      "Role name: AmazonBedrockAgentCoreSDKCodeBuild-us-east-1-aec8340a22\n",
      "CodeBuild role doesn't exist, creating new role: AmazonBedrockAgentCoreSDKCodeBuild-us-east-1-aec8340a22\n",
      "Creating IAM role: AmazonBedrockAgentCoreSDKCodeBuild-us-east-1-aec8340a22\n",
      "✓ Role created: arn:aws:iam::885475566683:role/AmazonBedrockAgentCoreSDKCodeBuild-us-east-1-aec8340a22\n",
      "Attaching inline policy: CodeBuildExecutionPolicy to role: AmazonBedrockAgentCoreSDKCodeBuild-us-east-1-aec8340a22\n",
      "✓ Policy attached: CodeBuildExecutionPolicy\n",
      "Waiting for IAM role propagation...\n",
      "CodeBuild execution role creation complete: arn:aws:iam::885475566683:role/AmazonBedrockAgentCoreSDKCodeBuild-us-east-1-aec8340a22\n",
      "Using .dockerignore with 44 patterns\n",
      "Uploaded source to S3: weather_agent_gateway_memory/source.zip\n",
      "Created CodeBuild project: bedrock-agentcore-weather_agent_gateway_memory-builder\n",
      "Starting CodeBuild build (this may take several minutes)...\n",
      "Starting CodeBuild monitoring...\n",
      "🔄 QUEUED started (total: 0s)\n",
      "✅ QUEUED completed in 1.0s\n",
      "🔄 PROVISIONING started (total: 1s)\n",
      "✅ PROVISIONING completed in 9.3s\n",
      "🔄 DOWNLOAD_SOURCE started (total: 10s)\n",
      "✅ DOWNLOAD_SOURCE completed in 2.1s\n",
      "🔄 BUILD started (total: 12s)\n",
      "✅ BUILD completed in 14.4s\n",
      "🔄 POST_BUILD started (total: 27s)\n",
      "✅ POST_BUILD completed in 9.3s\n",
      "🔄 FINALIZING started (total: 36s)\n",
      "✅ FINALIZING completed in 1.0s\n",
      "🔄 COMPLETED started (total: 37s)\n",
      "✅ COMPLETED completed in 1.0s\n",
      "🎉 CodeBuild completed successfully in 0m 38s\n",
      "CodeBuild completed successfully\n",
      "✅ CodeBuild project configuration saved\n",
      "Deploying to Bedrock AgentCore...\n",
      "✅ Agent created/updated: arn:aws:bedrock-agentcore:us-east-1:885475566683:runtime/weather_agent_gateway_memory-41Kahc70oh\n",
      "Polling for endpoint to be ready...\n",
      "Agent endpoint: arn:aws:bedrock-agentcore:us-east-1:885475566683:runtime/weather_agent_gateway_memory-41Kahc70oh/runtime-endpoint/DEFAULT\n",
      "Deployment completed successfully - Agent: arn:aws:bedrock-agentcore:us-east-1:885475566683:runtime/weather_agent_gateway_memory-41Kahc70oh\n",
      "Built with CodeBuild: bedrock-agentcore-weather_agent_gateway_memory-builder:9708cb01-70a4-4606-a97a-6bc9f604908a\n",
      "Deployed to cloud: arn:aws:bedrock-agentcore:us-east-1:885475566683:runtime/weather_agent_gateway_memory-41Kahc70oh\n",
      "ECR image: 885475566683.dkr.ecr.us-east-1.amazonaws.com/agentcore-memory-workshop\n",
      "🔍 Agent logs available at:\n",
      "   /aws/bedrock-agentcore/runtimes/weather_agent_gateway_memory-41Kahc70oh-DEFAULT --log-stream-name-prefix \"2025/09/12/\\[runtime-logs]\"\n",
      "   /aws/bedrock-agentcore/runtimes/weather_agent_gateway_memory-41Kahc70oh-DEFAULT --log-stream-names \"otel-rt-logs\"\n",
      "💡 Tail logs with: aws logs tail /aws/bedrock-agentcore/runtimes/weather_agent_gateway_memory-41Kahc70oh-DEFAULT --log-stream-name-prefix \"2025/09/12/\\[runtime-logs]\" --follow\n",
      "💡 Or view recent logs: aws logs tail /aws/bedrock-agentcore/runtimes/weather_agent_gateway_memory-41Kahc70oh-DEFAULT --log-stream-name-prefix \"2025/09/12/\\[runtime-logs]\" --since 1h\n"
     ]
    }
   ],
   "source": [
    "launch_result = weather_agent_gateway_memory_runtime.launch()"
   ]
  },
  {
   "cell_type": "markdown",
   "metadata": {},
   "source": [
    "### Step 7: Test your Agent with Short-Term Memory on AgentCore Runtime"
   ]
  },
  {
   "cell_type": "code",
   "execution_count": 24,
   "metadata": {
    "execution": {
     "iopub.execute_input": "2025-09-12T02:23:54.278326Z",
     "iopub.status.busy": "2025-09-12T02:23:54.278061Z",
     "iopub.status.idle": "2025-09-12T02:24:14.430722Z",
     "shell.execute_reply": "2025-09-12T02:24:14.430087Z",
     "shell.execute_reply.started": "2025-09-12T02:23:54.278305Z"
    }
   },
   "outputs": [
    {
     "data": {
      "text/plain": [
       "{'ResponseMetadata': {'RequestId': '0f2aedfd-00b2-4ead-8f8f-6b8a5ca2eb7d',\n",
       "  'HTTPStatusCode': 200,\n",
       "  'HTTPHeaders': {'date': 'Fri, 12 Sep 2025 02:24:14 GMT',\n",
       "   'content-type': 'application/json',\n",
       "   'transfer-encoding': 'chunked',\n",
       "   'connection': 'keep-alive',\n",
       "   'x-amzn-requestid': '0f2aedfd-00b2-4ead-8f8f-6b8a5ca2eb7d',\n",
       "   'baggage': 'Self=1-68c3843a-6a9bd5671c58eaf545b97875,session.id=b1e22980-6ec4-4611-9cee-e584b030e0b0',\n",
       "   'x-amzn-bedrock-agentcore-runtime-session-id': 'b1e22980-6ec4-4611-9cee-e584b030e0b0',\n",
       "   'x-amzn-trace-id': 'Root=1-68c3843a-1ea87d3e2ad11b1737901f61;Self=1-68c3843a-6a9bd5671c58eaf545b97875'},\n",
       "  'RetryAttempts': 0},\n",
       " 'runtimeSessionId': 'b1e22980-6ec4-4611-9cee-e584b030e0b0',\n",
       " 'traceId': 'Root=1-68c3843a-1ea87d3e2ad11b1737901f61;Self=1-68c3843a-6a9bd5671c58eaf545b97875',\n",
       " 'baggage': 'Self=1-68c3843a-6a9bd5671c58eaf545b97875,session.id=b1e22980-6ec4-4611-9cee-e584b030e0b0',\n",
       " 'contentType': 'application/json',\n",
       " 'statusCode': 200,\n",
       " 'response': ['{\"response\": \"## Current Weather in Tokyo\\\\n\\\\nCurrently in Tokyo, it\\'s **27.7°C** with **broken clouds**. Here are the details:\\\\n\\\\n- **Feels like:** 30.46°C\\\\n- **Humidity:** 73%\\\\n- **Wind:** 3.6 m/s from the northeast\\\\n- **Visibility:** Good (10 km)\\\\n\\\\n## Tomorrow\\'s Forecast for Tokyo\\\\n\\\\nTomorrow looks like it will be rainy in Tokyo. Here\\'s what you can expect:\\\\n\\\\n**Morning to Afternoon:**\\\\n- Temperature range of 23-24°C\\\\n- Light to moderate rain throughout the day\\\\n- High humidity (80-87%)\\\\n- Moderate wind speeds (3-5 m/s)\\\\n\\\\n**Evening:**\\\\n- Temperature around 23-24°C\\\\n- Continuing light rain\\\\n- Overcast conditions\\\\n\\\\n## Recommendations for Your Visit\\\\n\\\\nBased on the forecast, Alice, I\\'d recommend:\\\\n\\\\n1. **Pack rain gear:** Definitely bring an umbrella and consider a light waterproof jacket or raincoat.\\\\n\\\\n2. **Clothing:** Light, breathable fabrics as it will be warm and humid. Quick-drying clothes would be ideal.\\\\n\\\\n3. **Footwear:** Water-resistant shoes would be best for walking around the city.\\\\n\\\\n4. *',\n",
       "  '*Activities:** Plan for indoor activities during heavy rain periods. Many of Tokyo\\'s shopping malls, museums, and restaurants are perfect for rainy days.\\\\n\\\\n5. **Transportation:** The Tokyo subway system is excellent during rain, so consider purchasing a day pass.\\\\n\\\\nWould you like more specific information about any part of Tokyo or recommendations for indoor activities that would be good for rainy weather?\", \"timestamp\": \"2025-09-12T02:24:14.370202\", \"tools_available\": 2, \"memory_id\": \"WeatherAgentGatewayMemory-ne1n2c7IpW\", \"actor_id\": \"alice_test\", \"session_id\": \"test_session_001\", \"gateway_url\": \"https://testgwforopenapi-2a2t7audt3.gateway.bedrock-agentcore.us-east-1.amazonaws.com/mcp\", \"status\": \"success\"}']}"
      ]
     },
     "execution_count": 24,
     "metadata": {},
     "output_type": "execute_result"
    }
   ],
   "source": [
    "invoke_response = weather_agent_gateway_memory_runtime.invoke({\n",
    "    \"prompt\": \"Hello, I'm Alice and I'm planning to visit Tokyo tomorrow. Can you check the weather for me?\",\n",
    "    \"gateway_url\": gateway_url,\n",
    "    \"cognito_client_id\": client_id,\n",
    "    \"cognito_client_secret\": client_secret,\n",
    "    \"cognito_user_pool_id\": user_pool_id,\n",
    "    \"memory_name\": \"WeatherAgentGatewayMemory\",\n",
    "    \"actor_id\": \"alice_test\",\n",
    "    \"session_id\": \"test_session_001\"\n",
    "})\n",
    "invoke_response"
   ]
  },
  {
   "cell_type": "code",
   "execution_count": 26,
   "metadata": {
    "execution": {
     "iopub.execute_input": "2025-09-12T02:24:35.614389Z",
     "iopub.status.busy": "2025-09-12T02:24:35.614124Z",
     "iopub.status.idle": "2025-09-12T02:24:35.619764Z",
     "shell.execute_reply": "2025-09-12T02:24:35.619211Z",
     "shell.execute_reply.started": "2025-09-12T02:24:35.614370Z"
    }
   },
   "outputs": [
    {
     "name": "stdout",
     "output_type": "stream",
     "text": [
      "=== Weather Agent Response ===\n"
     ]
    },
    {
     "data": {
      "text/markdown": [
       "**Agent Response:**\n",
       "## Current Weather in Tokyo\n",
       "\n",
       "Currently in Tokyo, it's **27.7°C** with **broken clouds**. Here are the details:\n",
       "\n",
       "- **Feels like:** 30.46°C\n",
       "- **Humidity:** 73%\n",
       "- **Wind:** 3.6 m/s from the northeast\n",
       "- **Visibility:** Good (10 km)\n",
       "\n",
       "## Tomorrow's Forecast for Tokyo\n",
       "\n",
       "Tomorrow looks like it will be rainy in Tokyo. Here's what you can expect:\n",
       "\n",
       "**Morning to Afternoon:**\n",
       "- Temperature range of 23-24°C\n",
       "- Light to moderate rain throughout the day\n",
       "- High humidity (80-87%)\n",
       "- Moderate wind speeds (3-5 m/s)\n",
       "\n",
       "**Evening:**\n",
       "- Temperature around 23-24°C\n",
       "- Continuing light rain\n",
       "- Overcast conditions\n",
       "\n",
       "## Recommendations for Your Visit\n",
       "\n",
       "Based on the forecast, Alice, I'd recommend:\n",
       "\n",
       "1. **Pack rain gear:** Definitely bring an umbrella and consider a light waterproof jacket or raincoat.\n",
       "\n",
       "2. **Clothing:** Light, breathable fabrics as it will be warm and humid. Quick-drying clothes would be ideal.\n",
       "\n",
       "3. **Footwear:** Water-resistant shoes would be best for walking around the city.\n",
       "\n",
       "4. **Activities:** Plan for indoor activities during heavy rain periods. Many of Tokyo's shopping malls, museums, and restaurants are perfect for rainy days.\n",
       "\n",
       "5. **Transportation:** The Tokyo subway system is excellent during rain, so consider purchasing a day pass.\n",
       "\n",
       "Would you like more specific information about any part of Tokyo or recommendations for indoor activities that would be good for rainy weather?"
      ],
      "text/plain": [
       "<IPython.core.display.Markdown object>"
      ]
     },
     "metadata": {},
     "output_type": "display_data"
    },
    {
     "name": "stdout",
     "output_type": "stream",
     "text": [
      "\n",
      "**Status:** success\n",
      "**Tools Available:** 2\n",
      "**Timestamp:** 2025-09-12T02:24:14.370202\n"
     ]
    }
   ],
   "source": [
    "from IPython.display import Markdown, display\n",
    "import json\n",
    "\n",
    "full_response = ''.join(invoke_response['response'])\n",
    "\n",
    "response_data = json.loads(full_response)\n",
    "\n",
    "print(\"=== Weather Agent Response ===\")\n",
    "display(Markdown(f\"**Agent Response:**\\n{response_data['response']}\"))\n",
    "\n",
    "print(f\"\\n**Status:** {response_data['status']}\")\n",
    "print(f\"**Tools Available:** {response_data['tools_available']}\")\n",
    "print(f\"**Timestamp:** {response_data['timestamp']}\")"
   ]
  },
  {
   "cell_type": "markdown",
   "metadata": {},
   "source": [
    "#### Test short-term memory persistence\n"
   ]
  },
  {
   "cell_type": "code",
   "execution_count": 27,
   "metadata": {
    "execution": {
     "iopub.execute_input": "2025-09-12T02:24:39.215459Z",
     "iopub.status.busy": "2025-09-12T02:24:39.215184Z",
     "iopub.status.idle": "2025-09-12T02:24:44.174153Z",
     "shell.execute_reply": "2025-09-12T02:24:44.173451Z",
     "shell.execute_reply.started": "2025-09-12T02:24:39.215436Z"
    }
   },
   "outputs": [
    {
     "name": "stdout",
     "output_type": "stream",
     "text": [
      "\n",
      "🧠 Testing memory persistence...\n"
     ]
    },
    {
     "data": {
      "text/plain": [
       "{'ResponseMetadata': {'RequestId': 'e45b7a81-13dc-4f6b-9a3e-4e63473db7b4',\n",
       "  'HTTPStatusCode': 200,\n",
       "  'HTTPHeaders': {'date': 'Fri, 12 Sep 2025 02:24:44 GMT',\n",
       "   'content-type': 'application/json',\n",
       "   'transfer-encoding': 'chunked',\n",
       "   'connection': 'keep-alive',\n",
       "   'x-amzn-requestid': 'e45b7a81-13dc-4f6b-9a3e-4e63473db7b4',\n",
       "   'baggage': 'Self=1-68c38467-6dfb0cd17498cbcc7a415474,session.id=b1e22980-6ec4-4611-9cee-e584b030e0b0',\n",
       "   'x-amzn-bedrock-agentcore-runtime-session-id': 'b1e22980-6ec4-4611-9cee-e584b030e0b0',\n",
       "   'x-amzn-trace-id': 'Root=1-68c38467-387f3a1d4e3471a8046a68ae;Self=1-68c38467-6dfb0cd17498cbcc7a415474'},\n",
       "  'RetryAttempts': 0},\n",
       " 'runtimeSessionId': 'b1e22980-6ec4-4611-9cee-e584b030e0b0',\n",
       " 'traceId': 'Root=1-68c38467-387f3a1d4e3471a8046a68ae;Self=1-68c38467-6dfb0cd17498cbcc7a415474',\n",
       " 'baggage': 'Self=1-68c38467-6dfb0cd17498cbcc7a415474,session.id=b1e22980-6ec4-4611-9cee-e584b030e0b0',\n",
       " 'contentType': 'application/json',\n",
       " 'statusCode': 200,\n",
       " 'response': ['{\"response\": \"Yes, I remember! You\\'re Alice, and you were planning to visit Tokyo. You asked me about the weather there for tomorrow, and I provided you with a forecast showing it would likely be rainy with temperatures around 23-24°C, high humidity, and light to moderate rain throughout the day.\\\\n\\\\nWould you like me to check for any updates to the Tokyo weather forecast for your visit tomorrow? Or is there anything specific about the weather or your trip that you\\'d like to know more about?\", \"timestamp\": \"2025-09-12T02:24:44.120938\", \"tools_available\": 2, \"memory_id\": \"WeatherAgentGatewayMemory-ne1n2c7IpW\", \"actor_id\": \"alice_test\", \"session_id\": \"test_session_001\", \"gateway_url\": \"https://testgwforopenapi-2a2t7audt3.gateway.bedrock-agentcore.us-east-1.amazonaws.com/mcp\", \"status\": \"success\"}']}"
      ]
     },
     "execution_count": 27,
     "metadata": {},
     "output_type": "execute_result"
    }
   ],
   "source": [
    "# Test memory persistence\n",
    "print(\"\\n🧠 Testing memory persistence...\")\n",
    "\n",
    "invoke_response_2 = weather_agent_gateway_memory_runtime.invoke({\n",
    "    \"prompt\": \"Do you remember my name and where I wanted to visit?\",\n",
    "    \"gateway_url\": gateway_url,\n",
    "    \"cognito_client_id\": client_id,\n",
    "    \"cognito_client_secret\": client_secret,\n",
    "    \"cognito_user_pool_id\": user_pool_id,\n",
    "    \"memory_name\": \"WeatherAgentGatewayMemory\",\n",
    "    \"actor_id\": \"alice_test\",\n",
    "    \"session_id\": \"test_session_001\"\n",
    "})\n",
    "invoke_response_2"
   ]
  },
  {
   "cell_type": "code",
   "execution_count": 28,
   "metadata": {
    "execution": {
     "iopub.execute_input": "2025-09-12T02:24:44.175285Z",
     "iopub.status.busy": "2025-09-12T02:24:44.175049Z",
     "iopub.status.idle": "2025-09-12T02:24:44.180590Z",
     "shell.execute_reply": "2025-09-12T02:24:44.180091Z",
     "shell.execute_reply.started": "2025-09-12T02:24:44.175264Z"
    }
   },
   "outputs": [
    {
     "name": "stdout",
     "output_type": "stream",
     "text": [
      "=== Weather Agent Response ===\n"
     ]
    },
    {
     "data": {
      "text/markdown": [
       "**Agent Response:**\n",
       "Yes, I remember! You're Alice, and you were planning to visit Tokyo. You asked me about the weather there for tomorrow, and I provided you with a forecast showing it would likely be rainy with temperatures around 23-24°C, high humidity, and light to moderate rain throughout the day.\n",
       "\n",
       "Would you like me to check for any updates to the Tokyo weather forecast for your visit tomorrow? Or is there anything specific about the weather or your trip that you'd like to know more about?"
      ],
      "text/plain": [
       "<IPython.core.display.Markdown object>"
      ]
     },
     "metadata": {},
     "output_type": "display_data"
    },
    {
     "name": "stdout",
     "output_type": "stream",
     "text": [
      "\n",
      "**Status:** success\n",
      "**Tools Available:** 2\n",
      "**Timestamp:** 2025-09-12T02:24:44.120938\n"
     ]
    }
   ],
   "source": [
    "from IPython.display import Markdown, display\n",
    "import json\n",
    "\n",
    "full_response = ''.join(invoke_response_2['response'])\n",
    "\n",
    "response_data = json.loads(full_response)\n",
    "\n",
    "print(\"=== Weather Agent Response ===\")\n",
    "display(Markdown(f\"**Agent Response:**\\n{response_data['response']}\"))\n",
    "\n",
    "print(f\"\\n**Status:** {response_data['status']}\")\n",
    "print(f\"**Tools Available:** {response_data['tools_available']}\")\n",
    "print(f\"**Timestamp:** {response_data['timestamp']}\")"
   ]
  },
  {
   "cell_type": "markdown",
   "metadata": {},
   "source": [
    "## Inspecting Memory Contents\n",
    "\n",
    "Let's examine what's actually stored in our weather agent's memory:"
   ]
  },
  {
   "cell_type": "code",
   "execution_count": 29,
   "metadata": {
    "execution": {
     "iopub.execute_input": "2025-09-12T02:25:18.888347Z",
     "iopub.status.busy": "2025-09-12T02:25:18.888081Z",
     "iopub.status.idle": "2025-09-12T02:25:19.054730Z",
     "shell.execute_reply": "2025-09-12T02:25:19.054077Z",
     "shell.execute_reply.started": "2025-09-12T02:25:18.888325Z"
    }
   },
   "outputs": [
    {
     "name": "stdout",
     "output_type": "stream",
     "text": [
      "WeatherAgentGatewayMemory-ne1n2c7IpW\n"
     ]
    }
   ],
   "source": [
    "from bedrock_agentcore.memory import MemoryClient\n",
    "\n",
    "# Initialize the MemoryClient\n",
    "client = MemoryClient(region_name=\"us-east-1\")\n",
    "\n",
    "memory_name = \"WeatherAgentGatewayMemory\" # Replace with the name of your memory\n",
    "\n",
    "\n",
    "memories = memory_client.list_memories()\n",
    "memory_id = next((m['id'] for m in memories if m['id'].startswith(memory_name)), None)\n",
    "print(memory_id)"
   ]
  },
  {
   "cell_type": "code",
   "execution_count": 30,
   "metadata": {
    "execution": {
     "iopub.execute_input": "2025-09-12T02:25:27.683421Z",
     "iopub.status.busy": "2025-09-12T02:25:27.683151Z",
     "iopub.status.idle": "2025-09-12T02:25:27.810942Z",
     "shell.execute_reply": "2025-09-12T02:25:27.810389Z",
     "shell.execute_reply.started": "2025-09-12T02:25:27.683399Z"
    }
   },
   "outputs": [
    {
     "name": "stdout",
     "output_type": "stream",
     "text": [
      "🔍 Inspecting Weather Agent Memory Contents\n",
      "=============================================\n",
      "Found 3 conversation turns in memory:\n",
      "\n",
      "📝 Turn 1:\n",
      "  ASSISTANT: Yes, I remember! You're Alice, and you were planning to visit Tokyo. You asked me about the weather there for tomorrow, and I provided you with a fore...\n",
      "\n",
      "📝 Turn 2:\n",
      "  USER: Do you remember my name and where I wanted to visit?\n",
      "  ASSISTANT: ## Current Weather in Tokyo\n",
      "\n",
      "Currently in Tokyo, it's **27.7°C** with **broken clouds**. Here are the details:\n",
      "\n",
      "- **Feels like:** 30.46°C\n",
      "- **Humidity...\n",
      "  ASSISTANT: Now let me get the forecast for tomorrow to help with your planning:\n",
      "  ASSISTANT: Hello Alice! I'd be happy to check the weather for Tokyo for you. Let me get the current weather conditions and the forecast for tomorrow to help with...\n",
      "\n",
      "📝 Turn 3:\n",
      "  USER: Hello, I'm Alice and I'm planning to visit Tokyo tomorrow. Can you check the weather for me?\n",
      "\n",
      "✅ Memory inspection complete\n"
     ]
    }
   ],
   "source": [
    "print(\"🔍 Inspecting Weather Agent Memory Contents\")\n",
    "print(\"=\" * 45)\n",
    "actor_id = \"alice_test\"\n",
    "session_id = \"test_session_001\"\n",
    "# Check what's stored in weather memory\n",
    "recent_turns = client.get_last_k_turns(\n",
    "    memory_id=memory_id,\n",
    "    actor_id=actor_id,\n",
    "    session_id=session_id,\n",
    "    k=5 # Adjust k to see more or fewer turns\n",
    ")\n",
    "\n",
    "if recent_turns:\n",
    "    print(f\"Found {len(recent_turns)} conversation turns in memory:\")\n",
    "    print()\n",
    "    \n",
    "    for i, turn in enumerate(recent_turns, 1):\n",
    "        print(f\"📝 Turn {i}:\")\n",
    "        for message in turn:\n",
    "            role = message['role']\n",
    "            content = message['content']['text']\n",
    "            # Truncate long messages for readability\n",
    "            display_content = content[:150] + \"...\" if len(content) > 150 else content\n",
    "            print(f\"  {role}: {display_content}\")\n",
    "        print()\n",
    "else:\n",
    "    print(\"No conversation turns found in memory.\")\n",
    "\n",
    "print(\"✅ Memory inspection complete\")"
   ]
  },
  {
   "cell_type": "markdown",
   "metadata": {},
   "source": [
    "## Workshop Summary\n",
    "\n",
    "Congratulations! You've successfully completed the AgentCore Memory Workshop. Here's what you've learned:\n",
    "\n",
    "### 🎯 Key Concepts Covered\n",
    "\n",
    "1. **Memory Basics**\n",
    "   - Understanding short-term memory\n",
    "   - Creating short-term memory resources\n",
    "   - Basic short-term memory operations\n",
    "\n",
    "2. **Memory Hooks**\n",
    "   - Automatic conversation loading\n",
    "   - Automatic message storage\n",
    "   - Custom hook implementation\n",
    "\n",
    "3. **Practical Implementation**\n",
    "   - Building agents with short-term memory\n",
    "   - Combining short-term memory with external APIs\n",
    "   - Testing short-term memory\n",
    "\n",
    "### 🛠️ What You Built\n",
    "\n",
    "- ✅ Basic short-term memory-enabled agent\n",
    "- ✅ Weather agent with API integration\n",
    "- ✅ Custom short-term memory hooks for different scenarios\n",
    "- ✅ Deploy your short-term memory agent on AgentCore Runtime\n",
    "\n",
    "### 🚀 Next Steps\n",
    "\n",
    "Now that you understand AgentCore Memory, you can:\n",
    "\n",
    "1. **Explore Long-term Memory**: Add memory strategies for intelligent summarization\n",
    "2. **Scale to Production**: Deploy your memory-enabled agents using AgentCore Runtime\n",
    "\n",
    "### 📚 Additional Resources\n",
    "\n",
    "- **AgentCore Memory** [AgentCore Memory Documentation](https://docs.aws.amazon.com/bedrock-agentcore/latest/devguide/memory.html)\n",
    "- **Strands Framework**: [Official Strands Documentation](https://strandsagents.com/latest/)\n",
    "- **Amazon Bedrock**: [AWS Bedrock Documentation](https://aws.amazon.com/tw/bedrock/)"
   ]
  },
  {
   "cell_type": "markdown",
   "metadata": {},
   "source": [
    "## Cleanup (Optional)\n",
    "\n",
    "If you want to clean up the memory resources created during this workshop:"
   ]
  },
  {
   "cell_type": "code",
   "execution_count": null,
   "metadata": {},
   "outputs": [],
   "source": [
    "print(\"🧹 Memory Cleanup (Optional)\")\n",
    "print(\"=\" * 30)\n",
    "from bedrock_agentcore.memory import MemoryClient\n",
    "\n",
    "# Uncomment the lines below to delete memory resources\n",
    "# WARNING: This will permanently delete all stored conversations\n",
    "client = MemoryClient(region_name=\"<your-region>\")\n",
    "# Delete basic memory\n",
    "memory_id = \"<your-memory-id>\"\n",
    "client.delete_memory_and_wait(memory_id)\n",
    "print(f\"✅ Deleted basic memory: {memory_id}\")\n",
    "\n",
    "# Delete weather memory\n",
    "# client.delete_memory_and_wait(weather_memory_id)\n",
    "# print(f\"✅ Deleted weather memory: {weather_memory_id}\")\n",
    "\n",
    "print(\"ℹ️ Cleanup code is commented out to prevent accidental deletion\")\n",
    "print(\"ℹ️ Uncomment the lines above if you want to delete the memory resources\")"
   ]
  }
 ],
 "metadata": {
  "kernelspec": {
   "display_name": "Python 3 (ipykernel)",
   "language": "python",
   "name": "python3"
  },
  "language_info": {
   "codemirror_mode": {
    "name": "ipython",
    "version": 3
   },
   "file_extension": ".py",
   "mimetype": "text/x-python",
   "name": "python",
   "nbconvert_exporter": "python",
   "pygments_lexer": "ipython3",
   "version": "3.12.9"
  }
 },
 "nbformat": 4,
 "nbformat_minor": 4
}
